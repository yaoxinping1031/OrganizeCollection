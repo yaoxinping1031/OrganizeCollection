{
 "cells": [
  {
   "cell_type": "code",
   "execution_count": 1,
   "metadata": {
    "ExecuteTime": {
     "end_time": "2024-01-16T04:29:04.894196Z",
     "start_time": "2024-01-16T04:29:04.070260Z"
    }
   },
   "outputs": [],
   "source": [
    "import numpy as np\n",
    "import pandas as pd"
   ]
  },
  {
   "cell_type": "markdown",
   "metadata": {},
   "source": [
    "**I implemented the DCC-GARCH model on the daily returns of S&P500 index and of JP Morgan Chase & Co.**\n",
    "\n",
    "**The trading data from 2010/01/01 to 2019/12/31 was downloaded from Yahoo Finance.**"
   ]
  },
  {
   "cell_type": "code",
   "execution_count": 3,
   "metadata": {
    "ExecuteTime": {
     "end_time": "2024-01-16T04:30:08.077724Z",
     "start_time": "2024-01-16T04:30:07.094377Z"
    }
   },
   "outputs": [],
   "source": [
    "import efinance as ef\n",
    "stock_code = '399905'\n",
    "df = ef.stock.get_quote_history(stock_code)\n",
    "stock_code = '000300'\n",
    "df2 = ef.stock.get_quote_history(stock_code)\n",
    "# 将日期列转换为日期时间类型\n",
    "df['日期'] = pd.to_datetime(df['日期'])\n",
    "# 设置日期列为索引\n",
    "df.set_index('日期', inplace=True)\n",
    "# 选择指定日期范围的数据\n",
    "start_date = '2017-01-01'\n",
    "end_date = '2022-12-31'\n",
    "filtered_data = df.loc[start_date:end_date]\n",
    "df = filtered_data\n",
    "# 将日期列转换为日期时间类型\n",
    "df2['日期'] = pd.to_datetime(df2['日期'])\n",
    "# 设置日期列为索引\n",
    "df2.set_index('日期', inplace=True)\n",
    "# 选择指定日期范围的数据\n",
    "start_date = '2017-01-01'\n",
    "end_date = '2022-12-31'\n",
    "filtered_data2 = df2.loc[start_date:end_date]\n",
    "df2 = filtered_data2"
   ]
  },
  {
   "cell_type": "code",
   "execution_count": 6,
   "metadata": {
    "ExecuteTime": {
     "end_time": "2024-01-16T04:30:56.068426Z",
     "start_time": "2024-01-16T04:30:56.058512Z"
    },
    "scrolled": false
   },
   "outputs": [],
   "source": [
    "sp = df\n",
    "jpm = df2"
   ]
  },
  {
   "cell_type": "code",
   "execution_count": 7,
   "metadata": {
    "ExecuteTime": {
     "end_time": "2024-01-16T04:31:16.470844Z",
     "start_time": "2024-01-16T04:31:16.366270Z"
    }
   },
   "outputs": [],
   "source": [
    "sp_return = np.log(sp['收盘']).diff().dropna() # log return of S&P500 index\n",
    "jpm_return = np.log(jpm['收盘']).diff().dropna() # log return of JP Morgan Chase & Co."
   ]
  },
  {
   "cell_type": "code",
   "execution_count": 8,
   "metadata": {
    "ExecuteTime": {
     "end_time": "2024-01-16T04:31:19.329112Z",
     "start_time": "2024-01-16T04:31:19.231926Z"
    }
   },
   "outputs": [],
   "source": [
    "sp_return = sp_return.iloc[::-1] # the latest data should come first\n",
    "jpm_return = jpm_return.iloc[::-1] # the latest data should come first"
   ]
  },
  {
   "cell_type": "markdown",
   "metadata": {},
   "source": [
    "**In accord with _Multivariate DCC-GARCH Model (Elisabeth Orskaug, 2009)_, a GARCH model was first fitted for each log return separately and then a DCC model was fitted for the cross-correlation between the two time series. Additionally, I used threhold GARCH (usually abbreviated to TGARCH) in order to better capture the asymmetry of the stock volatility.**\n",
    "\n",
    "**The structure of the entire model can be written down as follows:**\n",
    "\n",
    "\\begin{align}\n",
    "&\\left[\\begin{array}{c}\n",
    "     r_{sp,t} \\\\\n",
    "     r_{jpm,t} \n",
    "     \\end{array}\\right]  \\sim N(0,H_t) \\\\\n",
    "&H_t  = \n",
    "     \\left[\\begin{array}{cc}\n",
    "     \\sigma_{sp,t} & 0 \\\\\n",
    "     0 & \\sigma_{jpm,t} \n",
    "     \\end{array}\\right]\n",
    "     \\left[\\begin{array}{cc}\n",
    "     1 & \\rho_t \\\\\n",
    "     \\rho_t & 1 \n",
    "     \\end{array}\\right]\n",
    "     \\left[\\begin{array}{cc}\n",
    "     \\sigma_{sp,t} & 0 \\\\\n",
    "     0 & \\sigma_{jpm,t} \n",
    "     \\end{array}\\right] = \n",
    "     \\left[\\begin{array}{cc}\n",
    "     \\sigma_{sp,t} & 0 \\\\\n",
    "     0 & \\sigma_{jpm,t} \n",
    "     \\end{array}\\right] \n",
    "     R_t\n",
    "     \\left[\\begin{array}{cc}\n",
    "     \\sigma_{sp,t} & 0 \\\\\n",
    "     0 & \\sigma_{jpm,t} \n",
    "     \\end{array}\\right]\\\\\n",
    "&R_t  = \n",
    "     \\left[\\begin{array}{cc}\n",
    "     \\frac{1}{\\sqrt{q_{11,t}}} & 0 \\\\\n",
    "     0 & \\frac{1}{\\sqrt{q_{22,t}}}\n",
    "     \\end{array}\\right] \n",
    "     \\left[\\begin{array}{cc}\n",
    "     q_{11,t} & q_{12,t} \\\\\n",
    "     q_{12,t} & q_{22,t}\n",
    "     \\end{array}\\right] \n",
    "     \\left[\\begin{array}{cc}\n",
    "     \\frac{1}{\\sqrt{q_{11,t}}} & 0 \\\\\n",
    "     0 & \\frac{1}{\\sqrt{q_{22,t}}}\n",
    "     \\end{array}\\right] =\n",
    "     \\left[\\begin{array}{cc}\n",
    "     \\frac{1}{\\sqrt{q_{11,t}}} & 0 \\\\\n",
    "     0 & \\frac{1}{\\sqrt{q_{22,t}}}\n",
    "     \\end{array}\\right]\n",
    "     Q_t\n",
    "     \\left[\\begin{array}{cc}\n",
    "     \\frac{1}{\\sqrt{q_{11,t}}} & 0 \\\\\n",
    "     0 & \\frac{1}{\\sqrt{q_{22,t}}}\n",
    "     \\end{array}\\right]\\\\\n",
    "&\\sigma_{sp,t}^2 = \\omega_{sp} + \\alpha_{sp}\\cdot r_{sp,t-1}^2 + \\gamma_{sp}\\cdot r_{sp,t-1}^2 \\cdot I_{sp,t-1}^{-} + \\beta_{sp} \\cdot \\sigma_{sp,t-1}^2\\\\\n",
    "&\\sigma_{jpm,t}^2 = \\omega_{jpm} + \\alpha_{jpm}\\cdot r_{jpm,t-1}^2 + \\gamma_{jpm}\\cdot r_{jpm,t-1}^2 \\cdot I_{jpm,t-1}^{-} + \\beta_{jpm} \\cdot \\sigma_{jpm,t-1}^2\\\\\n",
    "&Q_t = (1-a-b)\\cdot\\bar{Q} + a\\cdot\\epsilon_{t-1}\\epsilon_{t-1}' + b\\cdot Q_{t-1}\\\\\n",
    "&\\bar{Q} = \\dfrac{1}{T}\\sum_{t=1}^{T}\\epsilon_{t}\\epsilon_{t}', \\quad \\epsilon_{t} = \\left[\\begin{array}{c}\n",
    "     r_{sp,t}/\\sigma_{sp,t} \\\\\n",
    "     r_{jpm,t}/\\sigma_{jpm,t}\n",
    "     \\end{array}\\right]\n",
    "\\end{align}\n",
    "\n",
    "**The parameters to be optimized are**\n",
    "\n",
    "$\\omega_{sp},\\alpha_{sp},\\gamma_{sp},\\beta_{sp}$ **for the TGARCH(1,1,1) model fitting on the log return of S&P500 index,**\n",
    "\n",
    "$\\omega_{jpm},\\alpha_{jpm},\\gamma_{jpm},\\beta_{jpm}$ **for the TGARCH(1,1,1) model fitting on the log return of JP Morgan Chase & Co.,**\n",
    "\n",
    "**and $a,b$ for the DCC model fitting on the cross-correlation.**"
   ]
  },
  {
   "cell_type": "code",
   "execution_count": 9,
   "metadata": {
    "ExecuteTime": {
     "end_time": "2024-01-16T04:31:26.600689Z",
     "start_time": "2024-01-16T04:31:26.215173Z"
    }
   },
   "outputs": [],
   "source": [
    "from DCC_GARCH.GARCH.GARCH import GARCH\n",
    "from DCC_GARCH.GARCH.GARCH_loss import garch_loss_gen"
   ]
  },
  {
   "cell_type": "code",
   "execution_count": 10,
   "metadata": {
    "ExecuteTime": {
     "end_time": "2024-01-16T04:31:28.761531Z",
     "start_time": "2024-01-16T04:31:28.689945Z"
    },
    "scrolled": true
   },
   "outputs": [],
   "source": [
    "sp_model = GARCH(1,1)\n",
    "sp_model.set_loss(garch_loss_gen(1, 1))\n",
    "sp_model.set_max_itr(1)"
   ]
  },
  {
   "cell_type": "code",
   "execution_count": 11,
   "metadata": {
    "ExecuteTime": {
     "end_time": "2024-01-16T04:31:30.395793Z",
     "start_time": "2024-01-16T04:31:30.152819Z"
    }
   },
   "outputs": [
    {
     "name": "stdout",
     "output_type": "stream",
     "text": [
      "\n",
      "   NFVALS =    5   F =-4.955337E+03    MAXCV =-0.000000E+00\n",
      "   X = 5.000000E-03   1.000000E-01   1.000000E-01   8.500000E-01\n",
      "Iteration: 1. Training loss: -4.955E+03.\n"
     ]
    },
    {
     "data": {
      "text/plain": [
       "[-4955.336772171043]"
      ]
     },
     "execution_count": 11,
     "metadata": {},
     "output_type": "execute_result"
    }
   ],
   "source": [
    "sp_model.fit(sp_return)"
   ]
  },
  {
   "cell_type": "code",
   "execution_count": 12,
   "metadata": {
    "ExecuteTime": {
     "end_time": "2024-01-16T04:31:34.239742Z",
     "start_time": "2024-01-16T04:31:34.189044Z"
    }
   },
   "outputs": [
    {
     "data": {
      "text/plain": [
       "array([0.005, 0.1  , 0.1  , 0.85 ])"
      ]
     },
     "execution_count": 12,
     "metadata": {},
     "output_type": "execute_result"
    }
   ],
   "source": [
    "sp_model.get_theta()"
   ]
  },
  {
   "cell_type": "markdown",
   "metadata": {},
   "source": [
    "**Therefore, we have the fitted TGARCH(1,1,1) on the log return of S&P500 index:**\n",
    "\\begin{align}\n",
    "\\omega_{sp}&= 0.005\\\\\n",
    "\\alpha_{sp}&= 0.1\\\\\n",
    "\\gamma_{sp}&= 0.1\\\\\n",
    "\\beta_{sp}&= 0.85\n",
    "\\end{align}"
   ]
  },
  {
   "cell_type": "code",
   "execution_count": 13,
   "metadata": {
    "ExecuteTime": {
     "end_time": "2024-01-16T04:31:58.236360Z",
     "start_time": "2024-01-16T04:31:58.217782Z"
    }
   },
   "outputs": [],
   "source": [
    "jpm_model = GARCH(1,1)\n",
    "jpm_model.set_loss(garch_loss_gen(1, 1))\n",
    "jpm_model.set_max_itr(1)"
   ]
  },
  {
   "cell_type": "code",
   "execution_count": 14,
   "metadata": {
    "ExecuteTime": {
     "end_time": "2024-01-16T04:31:59.737819Z",
     "start_time": "2024-01-16T04:31:59.559126Z"
    }
   },
   "outputs": [
    {
     "name": "stdout",
     "output_type": "stream",
     "text": [
      "\n",
      "   NFVALS =    5   F =-4.959110E+03    MAXCV =-0.000000E+00\n",
      "   X = 5.000000E-03   1.000000E-01   1.000000E-01   8.500000E-01\n",
      "Iteration: 1. Training loss: -4.959E+03.\n"
     ]
    },
    {
     "data": {
      "text/plain": [
       "[-4959.109938173486]"
      ]
     },
     "execution_count": 14,
     "metadata": {},
     "output_type": "execute_result"
    }
   ],
   "source": [
    "jpm_model.fit(jpm_return)"
   ]
  },
  {
   "cell_type": "code",
   "execution_count": 15,
   "metadata": {
    "ExecuteTime": {
     "end_time": "2024-01-16T04:32:01.546002Z",
     "start_time": "2024-01-16T04:32:01.512869Z"
    }
   },
   "outputs": [
    {
     "data": {
      "text/plain": [
       "array([0.005, 0.1  , 0.1  , 0.85 ])"
      ]
     },
     "execution_count": 15,
     "metadata": {},
     "output_type": "execute_result"
    }
   ],
   "source": [
    "jpm_model.get_theta()"
   ]
  },
  {
   "cell_type": "markdown",
   "metadata": {},
   "source": [
    "**Therefore, we have the fitted TGARCH(1,1,1) on the log return of JP Morgan Chase & Co.:**\n",
    "\\begin{align}\n",
    "\\omega_{jpm}&= 7.416e-30\\\\\n",
    "\\alpha_{jpm}&= 0.0134\\\\\n",
    "\\gamma_{jpm}&= 0.0311\\\\\n",
    "\\beta_{jpm} &= 0.9711\n",
    "\\end{align}"
   ]
  },
  {
   "cell_type": "code",
   "execution_count": 16,
   "metadata": {
    "ExecuteTime": {
     "end_time": "2024-01-16T04:32:05.228307Z",
     "start_time": "2024-01-16T04:32:05.165989Z"
    }
   },
   "outputs": [],
   "source": [
    "sp_sigma = sp_model.sigma(sp_return)\n",
    "sp_epsilon = sp_return / sp_sigma"
   ]
  },
  {
   "cell_type": "code",
   "execution_count": 17,
   "metadata": {
    "ExecuteTime": {
     "end_time": "2024-01-16T04:32:07.064045Z",
     "start_time": "2024-01-16T04:32:06.988461Z"
    }
   },
   "outputs": [],
   "source": [
    "jpm_sigma = jpm_model.sigma(jpm_return)\n",
    "jpm_epsilon = jpm_return / jpm_sigma"
   ]
  },
  {
   "cell_type": "code",
   "execution_count": 18,
   "metadata": {
    "ExecuteTime": {
     "end_time": "2024-01-16T04:32:08.673217Z",
     "start_time": "2024-01-16T04:32:08.661942Z"
    }
   },
   "outputs": [],
   "source": [
    "epsilon = np.array([sp_epsilon,jpm_epsilon])"
   ]
  },
  {
   "cell_type": "code",
   "execution_count": 31,
   "metadata": {
    "ExecuteTime": {
     "end_time": "2024-01-16T04:41:31.319045Z",
     "start_time": "2024-01-16T04:41:29.693315Z"
    }
   },
   "outputs": [
    {
     "name": "stdout",
     "output_type": "stream",
     "text": [
      "Ljung-Box统计量和p-value：\n",
      "      lb_stat  lb_pvalue\n",
      "1    0.074128   0.785418\n",
      "2    0.100976   0.950765\n",
      "3    1.151658   0.764621\n",
      "4    4.870020   0.300896\n",
      "5    5.355427   0.374059\n",
      "6    7.268196   0.296755\n",
      "7    7.434641   0.385069\n",
      "8    8.264790   0.408041\n",
      "9    8.305893   0.503638\n",
      "10   9.036949   0.528601\n",
      "11   9.807177   0.547811\n",
      "12  10.834895   0.543119\n",
      "13  10.865917   0.622049\n",
      "14  13.009323   0.525790\n",
      "15  13.308190   0.578507\n",
      "16  13.342712   0.647554\n",
      "17  13.343398   0.712911\n",
      "18  14.076942   0.724062\n",
      "19  14.625705   0.746072\n",
      "20  14.937361   0.779981\n"
     ]
    }
   ],
   "source": [
    "#使用 sp_model.sigma(sp_return) 计算了波动率，其中 sp_return 是你的收益率序列。\n",
    "#将收益率序列 sp_return 除以波动率，得到了标准化残差 sp_epsilon。\n",
    "#这些标准化残差通常被用来进行进一步的模型诊断或分析。如果模型是正确的，标准化残差应该是平稳的，没有明显的结构。\n",
    "# Ljung-Box检验\n",
    "import statsmodels.api as sm\n",
    "lb_test = sm.stats.acorr_ljungbox(sp_epsilon, lags=20, return_df=True)\n",
    "print(\"Ljung-Box统计量和p-value：\")\n",
    "print(lb_test)\n",
    "#Ljung-Box检验的零假设是残差序列是白噪声，即在所有滞后阶上都没有自相关。因此，你关注的主要是p-value是否小于选择的显著性水平（通常选择0.05）。\n",
    "#在你的结果中，对于每个滞后阶，lb_pvalue 都相对较大，远远大于0.05。这意味着在这个检验中，你不能拒绝残差序列是白噪声的零假设。这是好的，因为白噪声表示残差序列没有明显的自相关结构，表明你的模型捕捉了数据中的信息。"
   ]
  },
  {
   "cell_type": "code",
   "execution_count": 32,
   "metadata": {
    "ExecuteTime": {
     "end_time": "2024-01-16T04:42:51.234157Z",
     "start_time": "2024-01-16T04:42:50.982587Z"
    }
   },
   "outputs": [
    {
     "name": "stdout",
     "output_type": "stream",
     "text": [
      "Ljung-Box统计量和p-value：\n",
      "      lb_stat  lb_pvalue\n",
      "1    0.012688   0.910314\n",
      "2    0.106363   0.948208\n",
      "3    2.530996   0.469716\n",
      "4    5.756671   0.218072\n",
      "5    7.246554   0.202940\n",
      "6   10.608356   0.101261\n",
      "7   11.666141   0.112086\n",
      "8   11.852392   0.157912\n",
      "9   11.938554   0.216796\n",
      "10  13.978502   0.173974\n",
      "11  14.019919   0.231893\n",
      "12  14.425345   0.274375\n",
      "13  15.293578   0.289386\n",
      "14  16.197307   0.301474\n",
      "15  16.220807   0.367530\n",
      "16  16.320024   0.430857\n",
      "17  16.542127   0.485780\n",
      "18  16.981906   0.524349\n",
      "19  17.244767   0.573290\n",
      "20  18.935481   0.526023\n"
     ]
    }
   ],
   "source": [
    "#使用 sp_model.sigma(sp_return) 计算了波动率，其中 sp_return 是你的收益率序列。\n",
    "#将收益率序列 sp_return 除以波动率，得到了标准化残差 sp_epsilon。\n",
    "#这些标准化残差通常被用来进行进一步的模型诊断或分析。如果模型是正确的，标准化残差应该是平稳的，没有明显的结构。\n",
    "# Ljung-Box检验\n",
    "lb_test = sm.stats.acorr_ljungbox(jpm_epsilon, lags=20, return_df=True)\n",
    "print(\"Ljung-Box统计量和p-value：\")\n",
    "print(lb_test)\n",
    "#Ljung-Box检验的零假设是残差序列是白噪声，即在所有滞后阶上都没有自相关。因此，你关注的主要是p-value是否小于选择的显著性水平（通常选择0.05）。\n",
    "#在你的结果中，对于每个滞后阶，lb_pvalue 都相对较大，远远大于0.05。这意味着在这个检验中，你不能拒绝残差序列是白噪声的零假设。这是好的，因为白噪声表示残差序列没有明显的自相关结构，表明你的模型捕捉了数据中的信息。"
   ]
  },
  {
   "cell_type": "code",
   "execution_count": 47,
   "metadata": {
    "ExecuteTime": {
     "end_time": "2024-01-16T04:54:10.841135Z",
     "start_time": "2024-01-16T04:54:10.681475Z"
    }
   },
   "outputs": [
    {
     "name": "stdout",
     "output_type": "stream",
     "text": [
      "模拟的未来数据： [ 0.1885295  -0.12900626  0.18861878  0.07905482  0.10797667  0.07280456\n",
      "  0.05230595  0.01823324  0.24737227 -0.15161747]\n"
     ]
    }
   ],
   "source": [
    "# 假设模拟的时间步数为 n_steps\n",
    "n_steps = 10  # 可以根据需要调整\n",
    "# 使用模型参数进行波动率预测\n",
    "predicted_volatility1 = sp_model.sigma(sp_return)\n",
    "# 模拟未来数据\n",
    "simulated_returns1 = np.random.normal(0, np.sqrt(predicted_volatility1[-1]), size=n_steps)\n",
    "# 打印模拟的未来数据\n",
    "print(\"模拟的未来数据：\", simulated_returns1)"
   ]
  },
  {
   "cell_type": "code",
   "execution_count": 44,
   "metadata": {
    "ExecuteTime": {
     "end_time": "2024-01-16T04:53:47.183597Z",
     "start_time": "2024-01-16T04:53:47.099565Z"
    }
   },
   "outputs": [
    {
     "name": "stdout",
     "output_type": "stream",
     "text": [
      "模拟的未来数据： [-0.07274476  0.01905556  0.05023988 -0.11001262 -0.05821835 -0.10711643\n",
      " -0.16911011  0.10988806 -0.0206373   0.08797078]\n"
     ]
    }
   ],
   "source": [
    "# 假设模拟的时间步数为 n_steps\n",
    "n_steps = 10  # 可以根据需要调整\n",
    "# 使用模型参数进行波动率预测\n",
    "predicted_volatility = jpm_model.sigma(jpm_return)\n",
    "# 模拟未来数据\n",
    "simulated_returns = np.random.normal(0, np.sqrt(predicted_volatility[-1]), size=n_steps)\n",
    "# 打印模拟的未来数据\n",
    "print(\"模拟的未来数据：\", simulated_returns)"
   ]
  },
  {
   "cell_type": "code",
   "execution_count": 73,
   "metadata": {
    "ExecuteTime": {
     "end_time": "2024-01-16T05:34:53.068290Z",
     "start_time": "2024-01-16T05:34:52.959399Z"
    }
   },
   "outputs": [
    {
     "name": "stdout",
     "output_type": "stream",
     "text": [
      "拟合效果的均方误差 (MSE): 0.0001337967992694452\n",
      "拟合效果的均方误差 (MSE): 0.009367278262215884\n",
      "拟合效果的均方误差 (MSE): 0.01156705663811867\n"
     ]
    }
   ],
   "source": [
    "# 假设模拟的时间步数为 n_steps\n",
    "n_steps = 10  # 可以根据需要调整\n",
    "# 获取训练好的模型参数\n",
    "trained_theta = sp_model.get_theta()\n",
    "# 初始化数组用于保存模拟的收益率\n",
    "simulated_returns = np.zeros(n_steps)\n",
    "# 使用训练好的参数进行 GARCH 过程的模拟\n",
    "for i in range(n_steps):\n",
    "    # 使用模型的 sigma 方法计算当前时刻的波动率\n",
    "    current_volatility = sp_model.sigma(simulated_returns[:i+1])[-1]\n",
    "    # 使用正态分布生成模拟的收益率\n",
    "    simulated_returns[i] = np.random.normal(0, np.sqrt(current_volatility))\n",
    "# 获取实际的收益率序列（假设已有 jpm_return）\n",
    "actual_returns = sp_return[-n_steps:]\n",
    "# 计算均方误差 (MSE)\n",
    "mse = mean_squared_error(actual_returns, simulated_returns)\n",
    "print(\"拟合效果的均方误差 (MSE):\", mse)\n",
    "#平均绝对误差 MAR\n",
    "def mean_absolute_error(y_true, y_pred):\n",
    "    return np.mean(np.abs(y_true - y_pred))\n",
    "#均方根误差 (RMSE)\n",
    "def root_mean_squared_error(y_true, y_pred):\n",
    "    return np.sqrt(np.mean((y_true - y_pred)**2))\n",
    "mae = mean_absolute_error(actual_returns, simulated_returns)\n",
    "print(\"拟合效果的均方误差 (MSE):\", mae)\n",
    "rmse = root_mean_squared_error(actual_returns, simulated_returns)\n",
    "print(\"拟合效果的均方误差 (MSE):\", rmse)"
   ]
  },
  {
   "cell_type": "code",
   "execution_count": 74,
   "metadata": {
    "ExecuteTime": {
     "end_time": "2024-01-16T05:35:09.172250Z",
     "start_time": "2024-01-16T05:35:09.074498Z"
    }
   },
   "outputs": [
    {
     "name": "stdout",
     "output_type": "stream",
     "text": [
      "拟合效果的均方误差 (MSE): 2.0357634310928e-05\n",
      "拟合效果的均方误差 (MSE): 0.0035517319723680886\n",
      "拟合效果的均方误差 (MSE): 0.004511943518144703\n"
     ]
    }
   ],
   "source": [
    "# 假设模拟的时间步数为 n_steps\n",
    "n_steps = 10  # 可以根据需要调整\n",
    "# 获取训练好的模型参数\n",
    "trained_theta = jpm_model.get_theta()\n",
    "# 初始化数组用于保存模拟的收益率\n",
    "simulated_returns = np.zeros(n_steps)\n",
    "# 使用训练好的参数进行 GARCH 过程的模拟\n",
    "for i in range(n_steps):\n",
    "    # 使用模型的 sigma 方法计算当前时刻的波动率\n",
    "    current_volatility = jpm_model.sigma(simulated_returns[:i+1])[-1]\n",
    "    # 使用正态分布生成模拟的收益率\n",
    "    simulated_returns[i] = np.random.normal(0, np.sqrt(current_volatility))\n",
    "# 获取实际的收益率序列（假设已有 jpm_return）\n",
    "actual_returns = jpm_return[-n_steps:]\n",
    "# 计算均方误差 (MSE)\n",
    "mse = mean_squared_error(actual_returns, simulated_returns)\n",
    "print(\"拟合效果的均方误差 (MSE):\", mse)\n",
    "mae = mean_absolute_error(actual_returns, simulated_returns)\n",
    "print(\"拟合效果的均方误差 (MSE):\", mae)\n",
    "rmse = root_mean_squared_error(actual_returns, simulated_returns)\n",
    "print(\"拟合效果的均方误差 (MSE):\", rmse)"
   ]
  },
  {
   "cell_type": "code",
   "execution_count": 19,
   "metadata": {
    "ExecuteTime": {
     "end_time": "2024-01-16T04:32:11.409617Z",
     "start_time": "2024-01-16T04:32:11.398205Z"
    }
   },
   "outputs": [],
   "source": [
    "from DCC_GARCH.DCC.DCC import DCC\n",
    "from DCC_GARCH.DCC.DCC_loss import dcc_loss_gen"
   ]
  },
  {
   "cell_type": "code",
   "execution_count": 20,
   "metadata": {
    "ExecuteTime": {
     "end_time": "2024-01-16T04:32:12.977486Z",
     "start_time": "2024-01-16T04:32:12.971017Z"
    }
   },
   "outputs": [],
   "source": [
    "dcc_model = DCC()\n",
    "dcc_model.set_loss(dcc_loss_gen())"
   ]
  },
  {
   "cell_type": "code",
   "execution_count": 22,
   "metadata": {
    "ExecuteTime": {
     "end_time": "2024-01-16T04:32:19.561718Z",
     "start_time": "2024-01-16T04:32:19.556833Z"
    }
   },
   "outputs": [
    {
     "data": {
      "text/plain": [
       "array([0.78338396, 0.21630562])"
      ]
     },
     "execution_count": 22,
     "metadata": {},
     "output_type": "execute_result"
    }
   ],
   "source": [
    "dcc_model.get_ab()"
   ]
  },
  {
   "cell_type": "markdown",
   "metadata": {},
   "source": [
    "**Therefore, we have the fitted DCC(1,1) for the cross-correlation between the log returns of S&P500 index and of JP Morgan Chase & Co.:**\n",
    "\\begin{align}\n",
    "a &= 0.0138\\\\\n",
    "b&= 0.9636\n",
    "\\end{align}"
   ]
  },
  {
   "cell_type": "code",
   "execution_count": 62,
   "metadata": {
    "ExecuteTime": {
     "end_time": "2024-01-16T05:08:37.105261Z",
     "start_time": "2024-01-16T05:08:37.053564Z"
    }
   },
   "outputs": [
    {
     "data": {
      "text/plain": [
       "array([[ 0.00659986, -0.0043875 , -0.02193689, ..., -0.04469405,\n",
       "         0.01002392,  0.86051022],\n",
       "       [ 0.02114337, -0.02061813, -0.02339581, ..., -0.06192752,\n",
       "        -0.00215506,  0.63714546]])"
      ]
     },
     "execution_count": 62,
     "metadata": {},
     "output_type": "execute_result"
    }
   ],
   "source": [
    "epsilon"
   ]
  },
  {
   "cell_type": "code",
   "execution_count": 66,
   "metadata": {
    "ExecuteTime": {
     "end_time": "2024-01-16T05:16:45.274638Z",
     "start_time": "2024-01-16T05:16:44.499484Z"
    }
   },
   "outputs": [
    {
     "name": "stdout",
     "output_type": "stream",
     "text": [
      "Optimization terminated successfully    (Exit mode 0)\n",
      "            Current function value: -2893.8177190860297\n",
      "            Iterations: 5\n",
      "            Function evaluations: 3\n",
      "            Gradient evaluations: 1\n",
      "Iteration: 1. Training loss: -2.894E+03.\n",
      "Optimization terminated successfully    (Exit mode 0)\n",
      "            Current function value: -2893.8177190860297\n",
      "            Iterations: 5\n",
      "            Function evaluations: 3\n",
      "            Gradient evaluations: 1\n",
      "Iteration: 2. Training loss: -2.894E+03.\n"
     ]
    }
   ],
   "source": [
    "train_losses = dcc_model.fit(epsilon)"
   ]
  },
  {
   "cell_type": "code",
   "execution_count": 67,
   "metadata": {
    "ExecuteTime": {
     "end_time": "2024-01-16T05:16:54.945747Z",
     "start_time": "2024-01-16T05:16:54.901505Z"
    }
   },
   "outputs": [
    {
     "name": "stdout",
     "output_type": "stream",
     "text": [
      "训练损失: [-2893.8177190860297, -2893.8177190860297]\n"
     ]
    }
   ],
   "source": [
    "print(\"训练损失:\", train_losses)"
   ]
  },
  {
   "cell_type": "code",
   "execution_count": 72,
   "metadata": {
    "ExecuteTime": {
     "end_time": "2024-01-16T05:23:19.792871Z",
     "start_time": "2024-01-16T05:23:19.736276Z"
    }
   },
   "outputs": [
    {
     "name": "stdout",
     "output_type": "stream",
     "text": [
      "给定 epsilon 的损失: <function dcc_loss_gen.<locals>.loss1.<locals>.loss at 0x144a81f80>\n"
     ]
    }
   ],
   "source": [
    "# 使用 DCC 模型的损失函数计算生成的时间序列的损失\n",
    "loss_for_epsilon = dcc_model.get_loss_func()(epsilon)\n",
    "print(\"给定 epsilon 的损失:\", loss_for_epsilon)"
   ]
  },
  {
   "cell_type": "code",
   "execution_count": 71,
   "metadata": {
    "ExecuteTime": {
     "end_time": "2024-01-16T05:22:24.177253Z",
     "start_time": "2024-01-16T05:22:24.074171Z"
    }
   },
   "outputs": [
    {
     "data": {
      "text/plain": [
       "<function DCC_GARCH.DCC.DCC_loss.dcc_loss_gen.<locals>.loss1.<locals>.loss(ab)>"
      ]
     },
     "execution_count": 71,
     "metadata": {},
     "output_type": "execute_result"
    }
   ],
   "source": [
    "future_data_dcc"
   ]
  },
  {
   "cell_type": "code",
   "execution_count": null,
   "metadata": {},
   "outputs": [],
   "source": []
  }
 ],
 "metadata": {
  "kernelspec": {
   "display_name": "Python 3 (ipykernel)",
   "language": "python",
   "name": "python3"
  },
  "language_info": {
   "codemirror_mode": {
    "name": "ipython",
    "version": 3
   },
   "file_extension": ".py",
   "mimetype": "text/x-python",
   "name": "python",
   "nbconvert_exporter": "python",
   "pygments_lexer": "ipython3",
   "version": "3.11.5"
  }
 },
 "nbformat": 4,
 "nbformat_minor": 2
}
