{
 "cells": [
  {
   "cell_type": "code",
   "execution_count": 27,
   "metadata": {
    "scrolled": true
   },
   "outputs": [
    {
     "data": {
      "text/plain": [
       "0.08888888888888893"
      ]
     },
     "execution_count": 27,
     "metadata": {},
     "output_type": "execute_result"
    }
   ],
   "source": [
    "from sklearn.metrics import mean_squared_error\n",
    "y_test = [0, 0, 2, 2, 4]\n",
    "y_pred = [-1/3, -1/3, 7/3, 7/3, 4]\n",
    "mse = mean_squared_error(y_test, y_pred)\n",
    "mse"
   ]
  },
  {
   "cell_type": "markdown",
   "metadata": {},
   "source": [
    "有了新模型的残差后，便可以继续构造新的决策树来拟合残差，直到系统的均方误差 MSE 达到指定要求或者迭代次数达到指定条件时，便停止迭代，形成最终模型。因为 GBDT 算法是不停地拟合新模型的残差，所以随着新的迭代，整个系统的残差会越来越小，或者更精确的说，系统的均方误差 MSE 会越来越小，从而使得模型更加准确。\n",
    "\n",
    "### 4. GBDT算法的简单代码实现\n",
    "\n",
    "GBDT模型既可以做分类分析，也可以做回归分析，分别对应的模型为: **GBDT分类模型**（GradientBoostingClassifier）及 **GBDT回归模型**（GradientBoostingRegressor）。GBDT 分类模型的弱学习器是分类决策树模型，GBDT 回归模型的弱学习器是回归决策树模型。\n",
    "\n",
    "* **GBDT 分类模型**的简单演示代码如下："
   ]
  },
  {
   "cell_type": "code",
   "execution_count": 28,
   "metadata": {},
   "outputs": [
    {
     "name": "stdout",
     "output_type": "stream",
     "text": [
      "[0]\n"
     ]
    }
   ],
   "source": [
    "from sklearn.ensemble import GradientBoostingClassifier\n",
    "X = [[1, 2], [3, 4], [5, 6], [7, 8], [9, 10]]\n",
    "y = [0, 0, 0, 1, 1]\n",
    "\n",
    "model = GradientBoostingClassifier(random_state=123)\n",
    "model.fit(X, y)\n",
    "\n",
    "print(model.predict([[5, 5]]))"
   ]
  },
  {
   "cell_type": "markdown",
   "metadata": {},
   "source": [
    "* **GBDT回归模型**的简单演示代码如下："
   ]
  },
  {
   "cell_type": "code",
   "execution_count": 29,
   "metadata": {},
   "outputs": [
    {
     "name": "stdout",
     "output_type": "stream",
     "text": [
      "[2.54908866]\n"
     ]
    }
   ],
   "source": [
    "from sklearn.ensemble import GradientBoostingRegressor\n",
    "X = [[1, 2], [3, 4], [5, 6], [7, 8], [9, 10]]\n",
    "y = [1, 2, 3, 4, 5]\n",
    "\n",
    "model = GradientBoostingRegressor(random_state=123)\n",
    "model.fit(X, y)\n",
    "\n",
    "print(model.predict([[5, 5]]))"
   ]
  },
  {
   "cell_type": "markdown",
   "metadata": {},
   "source": [
    "## 三、案例实战：产品定价模型\n",
    "\n",
    "### 1. 模型搭建\n",
    "\n",
    "首先读取1000条图书价格数据，特征变量有图书的页数，类别，彩印和纸张，目标变量是图书的定价。这里为了方便演示，只选取了4个特征变量"
   ]
  },
  {
   "cell_type": "code",
   "execution_count": 30,
   "metadata": {
    "scrolled": true
   },
   "outputs": [
    {
     "data": {
      "text/html": [
       "<div>\n",
       "<style scoped>\n",
       "    .dataframe tbody tr th:only-of-type {\n",
       "        vertical-align: middle;\n",
       "    }\n",
       "\n",
       "    .dataframe tbody tr th {\n",
       "        vertical-align: top;\n",
       "    }\n",
       "\n",
       "    .dataframe thead th {\n",
       "        text-align: right;\n",
       "    }\n",
       "</style>\n",
       "<table border=\"1\" class=\"dataframe\">\n",
       "  <thead>\n",
       "    <tr style=\"text-align: right;\">\n",
       "      <th></th>\n",
       "      <th>页数</th>\n",
       "      <th>类别</th>\n",
       "      <th>彩印</th>\n",
       "      <th>纸张</th>\n",
       "      <th>价格</th>\n",
       "      <th>出版地</th>\n",
       "      <th>字数</th>\n",
       "      <th>出版时间</th>\n",
       "      <th>印刷数量</th>\n",
       "      <th>作者平均年龄</th>\n",
       "      <th>印张</th>\n",
       "      <th>印刷次数</th>\n",
       "      <th>版本</th>\n",
       "      <th>作者数量</th>\n",
       "      <th>月销售量</th>\n",
       "      <th>累计销售量</th>\n",
       "    </tr>\n",
       "  </thead>\n",
       "  <tbody>\n",
       "    <tr>\n",
       "      <th>0</th>\n",
       "      <td>207</td>\n",
       "      <td>技术类</td>\n",
       "      <td>0</td>\n",
       "      <td>双胶纸</td>\n",
       "      <td>60</td>\n",
       "      <td>北京市</td>\n",
       "      <td>51000</td>\n",
       "      <td>2019</td>\n",
       "      <td>35000</td>\n",
       "      <td>40</td>\n",
       "      <td>26</td>\n",
       "      <td>1</td>\n",
       "      <td>2</td>\n",
       "      <td>1</td>\n",
       "      <td>610</td>\n",
       "      <td>2920</td>\n",
       "    </tr>\n",
       "    <tr>\n",
       "      <th>1</th>\n",
       "      <td>210</td>\n",
       "      <td>技术类</td>\n",
       "      <td>0</td>\n",
       "      <td>双胶纸</td>\n",
       "      <td>62</td>\n",
       "      <td>北京市</td>\n",
       "      <td>25000</td>\n",
       "      <td>2019</td>\n",
       "      <td>48000</td>\n",
       "      <td>51</td>\n",
       "      <td>20</td>\n",
       "      <td>4</td>\n",
       "      <td>2</td>\n",
       "      <td>4</td>\n",
       "      <td>141</td>\n",
       "      <td>410</td>\n",
       "    </tr>\n",
       "    <tr>\n",
       "      <th>2</th>\n",
       "      <td>206</td>\n",
       "      <td>技术类</td>\n",
       "      <td>0</td>\n",
       "      <td>双胶纸</td>\n",
       "      <td>62</td>\n",
       "      <td>北京市</td>\n",
       "      <td>88000</td>\n",
       "      <td>2019</td>\n",
       "      <td>27000</td>\n",
       "      <td>50</td>\n",
       "      <td>22</td>\n",
       "      <td>3</td>\n",
       "      <td>1</td>\n",
       "      <td>3</td>\n",
       "      <td>498</td>\n",
       "      <td>10080</td>\n",
       "    </tr>\n",
       "    <tr>\n",
       "      <th>3</th>\n",
       "      <td>218</td>\n",
       "      <td>技术类</td>\n",
       "      <td>0</td>\n",
       "      <td>双胶纸</td>\n",
       "      <td>64</td>\n",
       "      <td>北京市</td>\n",
       "      <td>21000</td>\n",
       "      <td>2019</td>\n",
       "      <td>20000</td>\n",
       "      <td>39</td>\n",
       "      <td>26</td>\n",
       "      <td>3</td>\n",
       "      <td>2</td>\n",
       "      <td>2</td>\n",
       "      <td>396</td>\n",
       "      <td>8760</td>\n",
       "    </tr>\n",
       "    <tr>\n",
       "      <th>4</th>\n",
       "      <td>209</td>\n",
       "      <td>技术类</td>\n",
       "      <td>0</td>\n",
       "      <td>双胶纸</td>\n",
       "      <td>60</td>\n",
       "      <td>北京市</td>\n",
       "      <td>28000</td>\n",
       "      <td>2019</td>\n",
       "      <td>38000</td>\n",
       "      <td>35</td>\n",
       "      <td>20</td>\n",
       "      <td>2</td>\n",
       "      <td>2</td>\n",
       "      <td>2</td>\n",
       "      <td>525</td>\n",
       "      <td>8010</td>\n",
       "    </tr>\n",
       "  </tbody>\n",
       "</table>\n",
       "</div>"
      ],
      "text/plain": [
       "    页数   类别  彩印   纸张  价格  出版地     字数  出版时间   印刷数量  作者平均年龄  印张  印刷次数  版本  作者数量  \\\n",
       "0  207  技术类   0  双胶纸  60  北京市  51000  2019  35000      40  26     1   2     1   \n",
       "1  210  技术类   0  双胶纸  62  北京市  25000  2019  48000      51  20     4   2     4   \n",
       "2  206  技术类   0  双胶纸  62  北京市  88000  2019  27000      50  22     3   1     3   \n",
       "3  218  技术类   0  双胶纸  64  北京市  21000  2019  20000      39  26     3   2     2   \n",
       "4  209  技术类   0  双胶纸  60  北京市  28000  2019  38000      35  20     2   2     2   \n",
       "\n",
       "   月销售量  累计销售量  \n",
       "0   610   2920  \n",
       "1   141    410  \n",
       "2   498  10080  \n",
       "3   396   8760  \n",
       "4   525   8010  "
      ]
     },
     "execution_count": 30,
     "metadata": {},
     "output_type": "execute_result"
    }
   ],
   "source": [
    "import pandas as pd\n",
    "df = pd.read_csv(\"产品定价预测.csv\")\n",
    "df.head()"
   ]
  },
  {
   "cell_type": "markdown",
   "metadata": {},
   "source": [
    "通过value_counts()函数查看这1000本图书有哪些类别及各个类别对应的比例:"
   ]
  },
  {
   "cell_type": "code",
   "execution_count": 31,
   "metadata": {},
   "outputs": [
    {
     "data": {
      "text/plain": [
       "技术类    336\n",
       "教辅类    333\n",
       "办公类    331\n",
       "Name: 类别, dtype: int64"
      ]
     },
     "execution_count": 31,
     "metadata": {},
     "output_type": "execute_result"
    }
   ],
   "source": [
    "df[\"类别\"].value_counts()"
   ]
  },
  {
   "cell_type": "code",
   "execution_count": 32,
   "metadata": {},
   "outputs": [
    {
     "data": {
      "text/plain": [
       "0    648\n",
       "1    352\n",
       "Name: 彩印, dtype: int64"
      ]
     },
     "execution_count": 32,
     "metadata": {},
     "output_type": "execute_result"
    }
   ],
   "source": [
    "df[\"彩印\"].value_counts()"
   ]
  },
  {
   "cell_type": "code",
   "execution_count": 33,
   "metadata": {},
   "outputs": [
    {
     "data": {
      "text/plain": [
       "双胶纸    615\n",
       "铜版纸    196\n",
       "书写纸    189\n",
       "Name: 纸张, dtype: int64"
      ]
     },
     "execution_count": 33,
     "metadata": {},
     "output_type": "execute_result"
    }
   ],
   "source": [
    "df[\"纸张\"].value_counts()"
   ]
  },
  {
   "cell_type": "markdown",
   "metadata": {},
   "source": [
    "因为“类别”和“纸张”两列是分类型文本变量，因此可以采用 **LabelEncoder()函数**对分类变量进行编号，以便于后续的模型拟合:"
   ]
  },
  {
   "cell_type": "code",
   "execution_count": 34,
   "metadata": {},
   "outputs": [
    {
     "data": {
      "text/html": [
       "<div>\n",
       "<style scoped>\n",
       "    .dataframe tbody tr th:only-of-type {\n",
       "        vertical-align: middle;\n",
       "    }\n",
       "\n",
       "    .dataframe tbody tr th {\n",
       "        vertical-align: top;\n",
       "    }\n",
       "\n",
       "    .dataframe thead th {\n",
       "        text-align: right;\n",
       "    }\n",
       "</style>\n",
       "<table border=\"1\" class=\"dataframe\">\n",
       "  <thead>\n",
       "    <tr style=\"text-align: right;\">\n",
       "      <th></th>\n",
       "      <th>页数</th>\n",
       "      <th>类别</th>\n",
       "      <th>彩印</th>\n",
       "      <th>纸张</th>\n",
       "      <th>价格</th>\n",
       "      <th>出版地</th>\n",
       "      <th>字数</th>\n",
       "      <th>出版时间</th>\n",
       "      <th>印刷数量</th>\n",
       "      <th>作者平均年龄</th>\n",
       "      <th>印张</th>\n",
       "      <th>印刷次数</th>\n",
       "      <th>版本</th>\n",
       "      <th>作者数量</th>\n",
       "      <th>月销售量</th>\n",
       "      <th>累计销售量</th>\n",
       "    </tr>\n",
       "  </thead>\n",
       "  <tbody>\n",
       "    <tr>\n",
       "      <th>0</th>\n",
       "      <td>207</td>\n",
       "      <td>1</td>\n",
       "      <td>0</td>\n",
       "      <td>1</td>\n",
       "      <td>60</td>\n",
       "      <td>0</td>\n",
       "      <td>51000</td>\n",
       "      <td>2019</td>\n",
       "      <td>35000</td>\n",
       "      <td>40</td>\n",
       "      <td>26</td>\n",
       "      <td>1</td>\n",
       "      <td>2</td>\n",
       "      <td>1</td>\n",
       "      <td>610</td>\n",
       "      <td>2920</td>\n",
       "    </tr>\n",
       "    <tr>\n",
       "      <th>1</th>\n",
       "      <td>210</td>\n",
       "      <td>1</td>\n",
       "      <td>0</td>\n",
       "      <td>1</td>\n",
       "      <td>62</td>\n",
       "      <td>0</td>\n",
       "      <td>25000</td>\n",
       "      <td>2019</td>\n",
       "      <td>48000</td>\n",
       "      <td>51</td>\n",
       "      <td>20</td>\n",
       "      <td>4</td>\n",
       "      <td>2</td>\n",
       "      <td>4</td>\n",
       "      <td>141</td>\n",
       "      <td>410</td>\n",
       "    </tr>\n",
       "    <tr>\n",
       "      <th>2</th>\n",
       "      <td>206</td>\n",
       "      <td>1</td>\n",
       "      <td>0</td>\n",
       "      <td>1</td>\n",
       "      <td>62</td>\n",
       "      <td>0</td>\n",
       "      <td>88000</td>\n",
       "      <td>2019</td>\n",
       "      <td>27000</td>\n",
       "      <td>50</td>\n",
       "      <td>22</td>\n",
       "      <td>3</td>\n",
       "      <td>1</td>\n",
       "      <td>3</td>\n",
       "      <td>498</td>\n",
       "      <td>10080</td>\n",
       "    </tr>\n",
       "    <tr>\n",
       "      <th>3</th>\n",
       "      <td>218</td>\n",
       "      <td>1</td>\n",
       "      <td>0</td>\n",
       "      <td>1</td>\n",
       "      <td>64</td>\n",
       "      <td>0</td>\n",
       "      <td>21000</td>\n",
       "      <td>2019</td>\n",
       "      <td>20000</td>\n",
       "      <td>39</td>\n",
       "      <td>26</td>\n",
       "      <td>3</td>\n",
       "      <td>2</td>\n",
       "      <td>2</td>\n",
       "      <td>396</td>\n",
       "      <td>8760</td>\n",
       "    </tr>\n",
       "    <tr>\n",
       "      <th>4</th>\n",
       "      <td>209</td>\n",
       "      <td>1</td>\n",
       "      <td>0</td>\n",
       "      <td>1</td>\n",
       "      <td>60</td>\n",
       "      <td>0</td>\n",
       "      <td>28000</td>\n",
       "      <td>2019</td>\n",
       "      <td>38000</td>\n",
       "      <td>35</td>\n",
       "      <td>20</td>\n",
       "      <td>2</td>\n",
       "      <td>2</td>\n",
       "      <td>2</td>\n",
       "      <td>525</td>\n",
       "      <td>8010</td>\n",
       "    </tr>\n",
       "  </tbody>\n",
       "</table>\n",
       "</div>"
      ],
      "text/plain": [
       "    页数  类别  彩印  纸张  价格  出版地     字数  出版时间   印刷数量  作者平均年龄  印张  印刷次数  版本  作者数量  \\\n",
       "0  207   1   0   1  60    0  51000  2019  35000      40  26     1   2     1   \n",
       "1  210   1   0   1  62    0  25000  2019  48000      51  20     4   2     4   \n",
       "2  206   1   0   1  62    0  88000  2019  27000      50  22     3   1     3   \n",
       "3  218   1   0   1  64    0  21000  2019  20000      39  26     3   2     2   \n",
       "4  209   1   0   1  60    0  28000  2019  38000      35  20     2   2     2   \n",
       "\n",
       "   月销售量  累计销售量  \n",
       "0   610   2920  \n",
       "1   141    410  \n",
       "2   498  10080  \n",
       "3   396   8760  \n",
       "4   525   8010  "
      ]
     },
     "execution_count": 34,
     "metadata": {},
     "output_type": "execute_result"
    }
   ],
   "source": [
    "from sklearn.preprocessing import LabelEncoder\n",
    "le = LabelEncoder()\n",
    "df[\"纸张\"] = le.fit_transform(df[\"纸张\"])\n",
    "df[\"类别\"] = le.fit_transform(df[\"类别\"])\n",
    "df[\"出版地\"] = le.fit_transform(df[\"出版地\"])\n",
    "df.head()"
   ]
  },
  {
   "cell_type": "markdown",
   "metadata": {},
   "source": [
    "通过如下代码将特征变量和目标变量单独提取出来："
   ]
  },
  {
   "cell_type": "code",
   "execution_count": 35,
   "metadata": {},
   "outputs": [],
   "source": [
    "X = df.drop(columns=\"价格\")\n",
    "y = df[\"价格\"]"
   ]
  },
  {
   "cell_type": "markdown",
   "metadata": {},
   "source": [
    "提取完特征变量后需要将数据拆分为训练集及测试集。划分训练集和测试集的代码如下："
   ]
  },
  {
   "cell_type": "code",
   "execution_count": 36,
   "metadata": {},
   "outputs": [],
   "source": [
    "from sklearn.model_selection import train_test_split\n",
    "X_train, X_test, y_train, y_test = train_test_split(X,y,test_size=0.2,random_state=123)"
   ]
  },
  {
   "cell_type": "markdown",
   "metadata": {},
   "source": [
    "划分为训练集和测试集之后，就可以从Scikit-Learn库中引入GBDT模型进行模型训练了，代码如下："
   ]
  },
  {
   "cell_type": "code",
   "execution_count": 37,
   "metadata": {},
   "outputs": [
    {
     "data": {
      "text/plain": [
       "GradientBoostingRegressor(random_state=123)"
      ]
     },
     "execution_count": 37,
     "metadata": {},
     "output_type": "execute_result"
    }
   ],
   "source": [
    "from sklearn.ensemble import GradientBoostingRegressor\n",
    "model = GradientBoostingRegressor(random_state=123)\n",
    "model.fit(X_train, y_train)"
   ]
  },
  {
   "cell_type": "markdown",
   "metadata": {},
   "source": [
    "### 2. 模型预测与评估\n",
    "\n",
    "模型搭建完毕后，通过如下代码对测试集进行预测和评估"
   ]
  },
  {
   "cell_type": "code",
   "execution_count": 38,
   "metadata": {},
   "outputs": [
    {
     "name": "stdout",
     "output_type": "stream",
     "text": [
      "模型预测准确率= 0.8635177501230035\n"
     ]
    }
   ],
   "source": [
    "from sklearn.metrics import accuracy_score\n",
    "from sklearn.metrics import roc_auc_score\n",
    "\n",
    "y_pred = model.predict(X_test)\n",
    "score = model.score(X_test,y_test)\n",
    "print(\"模型预测准确率=\",score)"
   ]
  },
  {
   "cell_type": "markdown",
   "metadata": {},
   "source": [
    "通过如下代码汇总预测值和实际值，以便进行对比："
   ]
  },
  {
   "cell_type": "code",
   "execution_count": 39,
   "metadata": {},
   "outputs": [
    {
     "data": {
      "text/html": [
       "<div>\n",
       "<style scoped>\n",
       "    .dataframe tbody tr th:only-of-type {\n",
       "        vertical-align: middle;\n",
       "    }\n",
       "\n",
       "    .dataframe tbody tr th {\n",
       "        vertical-align: top;\n",
       "    }\n",
       "\n",
       "    .dataframe thead th {\n",
       "        text-align: right;\n",
       "    }\n",
       "</style>\n",
       "<table border=\"1\" class=\"dataframe\">\n",
       "  <thead>\n",
       "    <tr style=\"text-align: right;\">\n",
       "      <th></th>\n",
       "      <th>预测值</th>\n",
       "      <th>实际值</th>\n",
       "    </tr>\n",
       "  </thead>\n",
       "  <tbody>\n",
       "    <tr>\n",
       "      <th>0</th>\n",
       "      <td>71.690895</td>\n",
       "      <td>75</td>\n",
       "    </tr>\n",
       "    <tr>\n",
       "      <th>1</th>\n",
       "      <td>80.231523</td>\n",
       "      <td>84</td>\n",
       "    </tr>\n",
       "    <tr>\n",
       "      <th>2</th>\n",
       "      <td>69.128128</td>\n",
       "      <td>68</td>\n",
       "    </tr>\n",
       "    <tr>\n",
       "      <th>3</th>\n",
       "      <td>90.075714</td>\n",
       "      <td>90</td>\n",
       "    </tr>\n",
       "    <tr>\n",
       "      <th>4</th>\n",
       "      <td>79.885414</td>\n",
       "      <td>85</td>\n",
       "    </tr>\n",
       "  </tbody>\n",
       "</table>\n",
       "</div>"
      ],
      "text/plain": [
       "         预测值  实际值\n",
       "0  71.690895   75\n",
       "1  80.231523   84\n",
       "2  69.128128   68\n",
       "3  90.075714   90\n",
       "4  79.885414   85"
      ]
     },
     "execution_count": 39,
     "metadata": {},
     "output_type": "execute_result"
    }
   ],
   "source": [
    "a = pd.DataFrame()    # 创建一个空DataFrame\n",
    "a[\"预测值\"] = list(y_pred)\n",
    "a[\"实际值\"] = list(y_test)\n",
    "a.head()"
   ]
  },
  {
   "cell_type": "markdown",
   "metadata": {},
   "source": [
    "通过如下代码可以求得此时系统的均方误差 MSE"
   ]
  },
  {
   "cell_type": "code",
   "execution_count": 40,
   "metadata": {},
   "outputs": [
    {
     "data": {
      "text/plain": [
       "49.79112684272617"
      ]
     },
     "execution_count": 40,
     "metadata": {},
     "output_type": "execute_result"
    }
   ],
   "source": [
    "from sklearn.metrics import mean_squared_error\n",
    "MSE = mean_squared_error(y_test, y_pred)\n",
    "MSE"
   ]
  },
  {
   "cell_type": "markdown",
   "metadata": {},
   "source": [
    "为了更科学合理地对产品定价，可以通过如下代码查看各个特征变量的特征重要性，以变筛选出对价格影响最大的特征变量"
   ]
  },
  {
   "cell_type": "code",
   "execution_count": 41,
   "metadata": {},
   "outputs": [
    {
     "data": {
      "text/plain": [
       "array([0.46629718, 0.43693658, 0.04086886, 0.01509174, 0.        ,\n",
       "       0.00837409, 0.        , 0.0047392 , 0.00261408, 0.00169454,\n",
       "       0.00204458, 0.00048581, 0.00102289, 0.01280327, 0.00702719])"
      ]
     },
     "execution_count": 41,
     "metadata": {},
     "output_type": "execute_result"
    }
   ],
   "source": [
    "model.feature_importances_"
   ]
  },
  {
   "cell_type": "markdown",
   "metadata": {},
   "source": [
    "可以看到，重要性最高的是“页数”和“类别”，一般来说，页数越多的图书价格越高，技术类和办公类图书的价格略高于教辅类图书的价格。“彩印”和“纸张”的重要性较低，对图书价格的影响较小。\n",
    "\n",
    "基于决策树的算法都可以输出特征的重要度，其中sklearn中GBDT的特征重要度函数为feature_importances_，lightgbm中的特征重要度函数为feature_importance，这里以sklearn中的GBDT为例，输出特征重要度："
   ]
  },
  {
   "cell_type": "code",
   "execution_count": 42,
   "metadata": {},
   "outputs": [
    {
     "name": "stdout",
     "output_type": "stream",
     "text": [
      "   feature_name  importance\n",
      "0            页数    0.466297\n",
      "1            类别    0.436937\n",
      "2            彩印    0.040869\n",
      "3            纸张    0.015092\n",
      "13         月销售量    0.012803\n",
      "5            字数    0.008374\n",
      "14        累计销售量    0.007027\n",
      "7          印刷数量    0.004739\n",
      "8        作者平均年龄    0.002614\n",
      "10         印刷次数    0.002045\n",
      "9            印张    0.001695\n",
      "12         作者数量    0.001023\n",
      "11           版本    0.000486\n",
      "4           出版地    0.000000\n",
      "6          出版时间    0.000000\n"
     ]
    },
    {
     "data": {
      "image/png": "[encoded data removed]",
      "text/plain": [
       "<Figure size 432x288 with 1 Axes>"
      ]
     },
     "metadata": {
      "needs_background": "light"
     },
     "output_type": "display_data"
    }
   ],
   "source": [
    "import matplotlib.pyplot as plt\n",
    "plt.rcParams[\"font.sans-serif\"] = [\"SimHei\"]   # 用来正常显示中文标签\n",
    "plt.rcParams[\"axes.unicode_minus\"] = False     # 解决负号\"-\"显示为方块的问题\n",
    "\n",
    "def plot_feature_importance(dataset, model_bst):\n",
    "    list_feature_name = list(dataset.columns[:])\n",
    "    # list_feature_importance = list(model_bst.feature_importance(importance_type='split', iteration=-1))\n",
    "    list_feature_importance = list(model_bst.feature_importances_)\n",
    "    dataframe_feature_importance = pd.DataFrame(\n",
    "        {'feature_name': list_feature_name, 'importance': list_feature_importance})\n",
    "    dataframe_feature_importance20 = dataframe_feature_importance.sort_values(by='importance', ascending=False)[:20]\n",
    "    print(dataframe_feature_importance20)\n",
    "    x = range(len(dataframe_feature_importance20['feature_name']))\n",
    "    plt.xticks(x, dataframe_feature_importance20['feature_name'], rotation=90, fontsize=8)\n",
    "    plt.plot(x, dataframe_feature_importance20['importance'])\n",
    "    plt.xlabel(\"Feature name\")\n",
    "    plt.ylabel(\"Importance\")\n",
    "    plt.title(\"The importance of features\")\n",
    "    plt.grid()\n",
    "    plt.show()\n",
    "    \n",
    "import matplotlib.pyplot as plt\n",
    "plt.rcParams[\"font.sans-serif\"] = [\"SimHei\"]   # 用来正常显示中文标签\n",
    "plt.rcParams[\"axes.unicode_minus\"] = False     # 解决负号\"-\"显示为方块的问题\n",
    "\n",
    "plot_feature_importance(X_train,model)"
   ]
  },
  {
   "cell_type": "markdown",
   "metadata": {},
   "source": [
    "### 3. GDBT 模型参数调优\n",
    "\n",
    "前面搭建的 GDBT 模型使用的是默认参数，其预测效果已经很不错了，如果进行参数调优，先来了解该模型的参数。在 Jupyter Notebook 中，可以输入并运行如下代码来查看官方文档"
   ]
  },
  {
   "cell_type": "code",
   "execution_count": 43,
   "metadata": {},
   "outputs": [],
   "source": [
    "from sklearn.ensemble import GradientBoostingRegressor\n",
    "#GradientBoostingRegressor?"
   ]
  },
  {
   "cell_type": "markdown",
   "metadata": {},
   "source": [
    "|参数|含义|取值|\n",
    "|:---:|:---:|:---:|\n",
    "|loss|损失函数|取值为'ls'代表均方差损失函数，取值为'lad'代表绝对损失函数，取值为'huber'代表Huber损失函数，取值为'quantile'代表分位数损失函数，默认取均方差损失函数'ls'|\n",
    "|learning_rate|弱学习器的权重缩减系数ν|取值范围为(0,1]，默认取0.1|\n",
    "|n_estimators|弱学习器的最大迭代次数|取值为int型数据，默认取100|\n",
    "|subsample|子采样比率|为了防止GBDT模型发生过拟合建立每棵回归树时采用子采样，该参数取值范围为(0,1]；取值为1代表在建立回归树时使用所有样本，取值小于1代表通过不放回抽样使用部分样本；默认取1|\n",
    "|criterion|特征选择标准|取值为string型，默认为'friedman_mse'。'friedman_mse'是费尔德曼均方误差，'mse'是均方误差，'mae'是平均绝对误差|\n",
    "|min_samples_split|分割内部节点所需要的最小样本数量|取值为int型或者float型。如果为整数，那么该值为最小样本数量；如果为浮点型，这是一个百分比。默认为2|\n",
    "|min_samples_leaf|叶子节点上的最小样本数量|取值为int型或者float型。如果为整数，那么该值为最小样本数量；如果为浮点型，这是一个百分比，默认为1|\n",
    "|min_weight_fraction_leaf|叶子节点最小的样本权重和|默认取0，即不考虑权重问题，如果小于该数值，该叶子节点会和兄弟节点一起被剪枝（即剔除该叶子节点和其兄弟节点，并停止分裂）。如果较多样本有缺失值或者样本的分布类别偏差很大，则需考虑样本权重问题。|\n",
    "|max_depth|最大深度|取值为int型，最大深度限制了树的节点数，默认为3|\n",
    "|min_impurity_decrease|分裂节点阈值|如果节点的分裂导致不纯度的下降大于或等于该参数，则分裂该节点，浮点型，默认为0|\n",
    "|min_impurity_split|停止树生长的阈值|如果节点的不纯度高于阈值，就进行分裂，否则就是叶子节点；取值为float型，默认为1e-7|\n",
    "|random_state|设定随机状态|取值范围为：{int整数, RandomState实例, None}。如果为整数，则指定了随机数生成器的种子，设置为任意整数后，例如“123”，则每次运行的结果都是一致的；如果为RandomState实例，则指定了随机数生成器；如果为None，则使用默认的随机数生成器。默认为None|\n",
    "|max_features|寻找最佳切割时要考虑的特征数量|int型，float型，string型或者None，如果为int型，代表要考虑的特征数量；如果为float型，即百分比；如果为'auto'，代表sqrt(n_features)；如果为'sqrt'，和'auto'一样；如果为'log2'，代表log2(n_features)；如果为None,代表n_features；默认取'None'|\n",
    "|verbose|控制输出|整数型，默认为0，如果为0则不输出日志，如果为1，则每隔一段时间输出日志，大于1输出日志会更频繁|\n",
    "|max_leaf_nodes|最大叶子节点数|取值为int型数据，默认为None|\n",
    "|warm_start|热启动|布尔型，设置为True时，重用前一个调用的解决方案以适合初始化，否则只擦除前一个解决方案，默认为False|\n",
    "|presort|数据预排序|指定是否需要提前对数据进行排序从而加速寻找最优切分点。设置为True时，在数据量大时会减慢总体的训练过程，但对于小数据集或者设定了最大深度的情况下，则会加速训练过程|\n",
    "|validation_fraction|留作早期停止的验证集训练数据的比例|float型，默认为0.1|\n",
    "|n_iter_no_change|确定当验证分数没有提高时是否提前停止训练|取值为int型，默认为None。取值为None时，禁止提前停止训练；取值为整数时，将保留'validation_fraction'的数据用作验证，并在验证得分在之前'n_iter_no_change_'轮迭代中没有提高时终止训练|\n",
    "|tol|提前停止训练的条件|取值为float型，默认为1e-4。损失改善小于tol时，训练停止|"
   ]
  },
  {
   "cell_type": "markdown",
   "metadata": {},
   "source": [
    "* **（1）网格搜索（GridSearchCV）**\n",
    "\n",
    "首先我们从步长(learning rate)和迭代次数(n_estimators)入手。一般来说，开始选择一个较小的步长来网格搜索最好的迭代次数。这里，我们将步长初始值设置为0.1。对于迭代次数进行网格搜索如下："
   ]
  },
  {
   "cell_type": "code",
   "execution_count": 18,
   "metadata": {},
   "outputs": [
    {
     "data": {
      "text/plain": [
       "{'learning_rate': 0.3, 'n_estimators': 80}"
      ]
     },
     "execution_count": 18,
     "metadata": {},
     "output_type": "execute_result"
    }
   ],
   "source": [
    "from sklearn.model_selection import GridSearchCV\n",
    "parameters = {\"n_estimators\":[20,30,40,50,60,80], \"learning_rate\":[0.05, 0.1, 0.2, 0.3,0.5,1]}\n",
    "model =  GradientBoostingRegressor()\n",
    "grid_search = GridSearchCV(model, parameters,  cv=5)\n",
    "grid_search.fit(X,y)     # 传入数据\n",
    "grid_search.best_params_             # 输出参数的最优值"
   ]
  },
  {
   "cell_type": "code",
   "execution_count": 19,
   "metadata": {},
   "outputs": [
    {
     "name": "stdout",
     "output_type": "stream",
     "text": [
      "模型预测准确率= 0.8697811585550834\n"
     ]
    }
   ],
   "source": [
    "from sklearn.ensemble import GradientBoostingRegressor\n",
    "model2 = GradientBoostingRegressor(n_estimators=80,learning_rate=0.3)\n",
    "model2.fit(X_train, y_train)\n",
    "\n",
    "score = model2.score(X_test,y_test)\n",
    "print(\"模型预测准确率=\",score)"
   ]
  },
  {
   "cell_type": "markdown",
   "metadata": {},
   "source": [
    "* **（2）贝叶斯优化器（bayesian  optimization)**\n",
    "\n",
    "python用户可以采用下方命令行可以快速的安装贝叶斯调试利器—— bayesian-optimization\n",
    "\n",
    "pip install -i https://mirrors.aliyun.com/pypi/simple bayesian-optimization\n",
    "\n",
    "贝叶斯优化器需要定义好贝叶斯调参的目标函数，以及参数空间的范围。运行gbdt_op.maximize()，就可以开始用贝叶斯优化去搜索最优参数空间了"
   ]
  },
  {
   "cell_type": "code",
   "execution_count": 44,
   "metadata": {},
   "outputs": [
    {
     "ename": "ImportError",
     "evalue": "cannot import name 'just_fix_windows_console' from 'colorama' (C:\\ProgramData\\Anaconda3\\lib\\site-packages\\colorama\\__init__.py)",
     "output_type": "error",
     "traceback": [
      "\u001b[1;31m---------------------------------------------------------------------------\u001b[0m",
      "\u001b[1;31mImportError\u001b[0m                               Traceback (most recent call last)",
      "\u001b[1;32m<ipython-input-44-ee8e1d4a5f22>\u001b[0m in \u001b[0;36m<module>\u001b[1;34m\u001b[0m\n\u001b[0;32m      1\u001b[0m \u001b[1;32mfrom\u001b[0m \u001b[0msklearn\u001b[0m\u001b[1;33m.\u001b[0m\u001b[0mmodel_selection\u001b[0m \u001b[1;32mimport\u001b[0m \u001b[0mcross_val_score\u001b[0m\u001b[1;33m\u001b[0m\u001b[1;33m\u001b[0m\u001b[0m\n\u001b[1;32m----> 2\u001b[1;33m \u001b[1;32mfrom\u001b[0m \u001b[0mbayes_opt\u001b[0m \u001b[1;32mimport\u001b[0m \u001b[0mBayesianOptimization\u001b[0m\u001b[1;33m\u001b[0m\u001b[1;33m\u001b[0m\u001b[0m\n\u001b[0m\u001b[0;32m      3\u001b[0m \u001b[1;32mdef\u001b[0m \u001b[0mgbdt_cv\u001b[0m\u001b[1;33m(\u001b[0m\u001b[0mn_estimators\u001b[0m\u001b[1;33m,\u001b[0m \u001b[0mmin_samples_split\u001b[0m\u001b[1;33m,\u001b[0m \u001b[0mmax_features\u001b[0m\u001b[1;33m,\u001b[0m \u001b[0mmax_depth\u001b[0m\u001b[1;33m)\u001b[0m\u001b[1;33m:\u001b[0m\u001b[1;33m\u001b[0m\u001b[1;33m\u001b[0m\u001b[0m\n\u001b[0;32m      4\u001b[0m     res = cross_val_score( \n\u001b[0;32m      5\u001b[0m         GradientBoostingRegressor(n_estimators=int(n_estimators),\n",
      "\u001b[1;32mC:\\ProgramData\\Anaconda3\\lib\\site-packages\\bayes_opt\\__init__.py\u001b[0m in \u001b[0;36m<module>\u001b[1;34m\u001b[0m\n\u001b[1;32m----> 1\u001b[1;33m \u001b[1;32mfrom\u001b[0m \u001b[1;33m.\u001b[0m\u001b[0mbayesian_optimization\u001b[0m \u001b[1;32mimport\u001b[0m \u001b[0mBayesianOptimization\u001b[0m\u001b[1;33m,\u001b[0m \u001b[0mEvents\u001b[0m\u001b[1;33m\u001b[0m\u001b[1;33m\u001b[0m\u001b[0m\n\u001b[0m\u001b[0;32m      2\u001b[0m \u001b[1;32mfrom\u001b[0m \u001b[1;33m.\u001b[0m\u001b[0mdomain_reduction\u001b[0m \u001b[1;32mimport\u001b[0m \u001b[0mSequentialDomainReductionTransformer\u001b[0m\u001b[1;33m\u001b[0m\u001b[1;33m\u001b[0m\u001b[0m\n\u001b[0;32m      3\u001b[0m \u001b[1;32mfrom\u001b[0m \u001b[1;33m.\u001b[0m\u001b[0mutil\u001b[0m \u001b[1;32mimport\u001b[0m \u001b[0mUtilityFunction\u001b[0m\u001b[1;33m\u001b[0m\u001b[1;33m\u001b[0m\u001b[0m\n\u001b[0;32m      4\u001b[0m \u001b[1;32mfrom\u001b[0m \u001b[1;33m.\u001b[0m\u001b[0mlogger\u001b[0m \u001b[1;32mimport\u001b[0m \u001b[0mScreenLogger\u001b[0m\u001b[1;33m,\u001b[0m \u001b[0mJSONLogger\u001b[0m\u001b[1;33m\u001b[0m\u001b[1;33m\u001b[0m\u001b[0m\n\u001b[0;32m      5\u001b[0m \u001b[1;32mfrom\u001b[0m \u001b[1;33m.\u001b[0m\u001b[0mconstraint\u001b[0m \u001b[1;32mimport\u001b[0m \u001b[0mConstraintModel\u001b[0m\u001b[1;33m\u001b[0m\u001b[1;33m\u001b[0m\u001b[0m\n",
      "\u001b[1;32mC:\\ProgramData\\Anaconda3\\lib\\site-packages\\bayes_opt\\bayesian_optimization.py\u001b[0m in \u001b[0;36m<module>\u001b[1;34m\u001b[0m\n\u001b[0;32m      3\u001b[0m \u001b[1;32mfrom\u001b[0m \u001b[0mbayes_opt\u001b[0m\u001b[1;33m.\u001b[0m\u001b[0mconstraint\u001b[0m \u001b[1;32mimport\u001b[0m \u001b[0mConstraintModel\u001b[0m\u001b[1;33m\u001b[0m\u001b[1;33m\u001b[0m\u001b[0m\n\u001b[0;32m      4\u001b[0m \u001b[1;33m\u001b[0m\u001b[0m\n\u001b[1;32m----> 5\u001b[1;33m \u001b[1;32mfrom\u001b[0m \u001b[1;33m.\u001b[0m\u001b[0mtarget_space\u001b[0m \u001b[1;32mimport\u001b[0m \u001b[0mTargetSpace\u001b[0m\u001b[1;33m\u001b[0m\u001b[1;33m\u001b[0m\u001b[0m\n\u001b[0m\u001b[0;32m      6\u001b[0m \u001b[1;32mfrom\u001b[0m \u001b[1;33m.\u001b[0m\u001b[0mevent\u001b[0m \u001b[1;32mimport\u001b[0m \u001b[0mEvents\u001b[0m\u001b[1;33m,\u001b[0m \u001b[0mDEFAULT_EVENTS\u001b[0m\u001b[1;33m\u001b[0m\u001b[1;33m\u001b[0m\u001b[0m\n\u001b[0;32m      7\u001b[0m \u001b[1;32mfrom\u001b[0m \u001b[1;33m.\u001b[0m\u001b[0mlogger\u001b[0m \u001b[1;32mimport\u001b[0m \u001b[0m_get_default_logger\u001b[0m\u001b[1;33m\u001b[0m\u001b[1;33m\u001b[0m\u001b[0m\n",
      "\u001b[1;32mC:\\ProgramData\\Anaconda3\\lib\\site-packages\\bayes_opt\\target_space.py\u001b[0m in \u001b[0;36m<module>\u001b[1;34m\u001b[0m\n\u001b[0;32m      2\u001b[0m \u001b[1;33m\u001b[0m\u001b[0m\n\u001b[0;32m      3\u001b[0m \u001b[1;32mimport\u001b[0m \u001b[0mnumpy\u001b[0m \u001b[1;32mas\u001b[0m \u001b[0mnp\u001b[0m\u001b[1;33m\u001b[0m\u001b[1;33m\u001b[0m\u001b[0m\n\u001b[1;32m----> 4\u001b[1;33m \u001b[1;32mfrom\u001b[0m \u001b[1;33m.\u001b[0m\u001b[0mutil\u001b[0m \u001b[1;32mimport\u001b[0m \u001b[0mensure_rng\u001b[0m\u001b[1;33m,\u001b[0m \u001b[0mNotUniqueError\u001b[0m\u001b[1;33m\u001b[0m\u001b[1;33m\u001b[0m\u001b[0m\n\u001b[0m\u001b[0;32m      5\u001b[0m \u001b[1;32mfrom\u001b[0m \u001b[1;33m.\u001b[0m\u001b[0mutil\u001b[0m \u001b[1;32mimport\u001b[0m \u001b[0mColours\u001b[0m\u001b[1;33m\u001b[0m\u001b[1;33m\u001b[0m\u001b[0m\n\u001b[0;32m      6\u001b[0m \u001b[1;33m\u001b[0m\u001b[0m\n",
      "\u001b[1;32mC:\\ProgramData\\Anaconda3\\lib\\site-packages\\bayes_opt\\util.py\u001b[0m in \u001b[0;36m<module>\u001b[1;34m\u001b[0m\n\u001b[0;32m      3\u001b[0m \u001b[1;32mfrom\u001b[0m \u001b[0mscipy\u001b[0m\u001b[1;33m.\u001b[0m\u001b[0mstats\u001b[0m \u001b[1;32mimport\u001b[0m \u001b[0mnorm\u001b[0m\u001b[1;33m\u001b[0m\u001b[1;33m\u001b[0m\u001b[0m\n\u001b[0;32m      4\u001b[0m \u001b[1;32mfrom\u001b[0m \u001b[0mscipy\u001b[0m\u001b[1;33m.\u001b[0m\u001b[0moptimize\u001b[0m \u001b[1;32mimport\u001b[0m \u001b[0mminimize\u001b[0m\u001b[1;33m\u001b[0m\u001b[1;33m\u001b[0m\u001b[0m\n\u001b[1;32m----> 5\u001b[1;33m \u001b[1;32mfrom\u001b[0m \u001b[0mcolorama\u001b[0m \u001b[1;32mimport\u001b[0m \u001b[0mjust_fix_windows_console\u001b[0m\u001b[1;33m\u001b[0m\u001b[1;33m\u001b[0m\u001b[0m\n\u001b[0m\u001b[0;32m      6\u001b[0m \u001b[1;33m\u001b[0m\u001b[0m\n\u001b[0;32m      7\u001b[0m \u001b[1;33m\u001b[0m\u001b[0m\n",
      "\u001b[1;31mImportError\u001b[0m: cannot import name 'just_fix_windows_console' from 'colorama' (C:\\ProgramData\\Anaconda3\\lib\\site-packages\\colorama\\__init__.py)"
     ]
    }
   ],
   "source": [
    "from sklearn.model_selection import cross_val_score\n",
    "from bayes_opt import BayesianOptimization\n",
    "def gbdt_cv(n_estimators, min_samples_split, max_features, max_depth):\n",
    "    res = cross_val_score( \n",
    "        GradientBoostingRegressor(n_estimators=int(n_estimators),\n",
    "                                                        min_samples_split=int(min_samples_split),\n",
    "                                                        max_features=min(max_features, 0.999), # float\n",
    "                                                        max_depth=int(max_depth),\n",
    "                                                        random_state=2\n",
    "        ),\n",
    "        X_train, y_train, cv=20\n",
    "    ).mean()\n",
    "    return res\n",
    "\n",
    "gbdt_op = BayesianOptimization(\n",
    "        gbdt_cv,\n",
    "        {'n_estimators': (10, 250),\n",
    "        'min_samples_split': (2, 25),\n",
    "        'max_features': (0.1, 0.999),\n",
    "        'max_depth': (5, 15)}\n",
    "    )\n",
    "\n",
    "gbdt_op.maximize()"
   ]
  },
  {
   "cell_type": "code",
   "execution_count": null,
   "metadata": {},
   "outputs": [],
   "source": [
    "print(gbdt_op.max)"
   ]
  },
  {
   "cell_type": "markdown",
   "metadata": {},
   "source": [
    "上方是调参过程，我们可以看到，各参数空间所对应的得分，以及每个参数空间的具体数值情况。把相应最优参数代入GBDT回归模型，然后对模型进行训练和评估"
   ]
  },
  {
   "cell_type": "code",
   "execution_count": null,
   "metadata": {},
   "outputs": [],
   "source": [
    "from sklearn.ensemble import GradientBoostingRegressor\n",
    "model3 = GradientBoostingRegressor(n_estimators=48,min_samples_split=25,\n",
    "                                  max_features=0.999,max_depth=5)\n",
    "model3.fit(X_train, y_train)\n",
    "\n",
    "score = model3.score(X_test,y_test)\n",
    "print(\"模型预测准确率=\",score)"
   ]
  },
  {
   "cell_type": "markdown",
   "metadata": {},
   "source": [
    "# 学习曲线"
   ]
  },
  {
   "cell_type": "code",
   "execution_count": null,
   "metadata": {},
   "outputs": [],
   "source": [
    "import numpy as np\n",
    "import matplotlib.pyplot as plt\n",
    "\n",
    "plt.rcParams['font.sans-serif'] = ['SimHei'] # 指定默认字体\n",
    "plt.rcParams['axes.unicode_minus']=False    #解决负数坐标显示问题\n",
    "from sklearn.metrics import mean_squared_error\n",
    "from sklearn.model_selection import train_test_split\n",
    "import numpy as np\n",
    "def plot_learning_curves(model, X,y):\n",
    "    X_train, X_val, y_train, y_val = train_test_split(X,y, test_size=0.2)\n",
    "    train_errors, val_errors = [], []\n",
    "    for m in range(1, len(X_train)):\n",
    "        model.fit(X_train[:m], y_train[:m])\n",
    "        y_train_predict = model.predict(X_train[:m])\n",
    "        y_val_predict = model.predict(X_val)\n",
    "        train_errors.append(mean_squared_error(y_train_predict, y_train[:m]))\n",
    "        val_errors.append(mean_squared_error(y_val_predict, y_val))\n",
    "    plt.plot(np.sqrt(train_errors), \"r-+\", linewidth=2, label=\"train\")\n",
    "    plt.plot(np.sqrt(val_errors),\"b-\",linewidth=3, label=\"val\")\n",
    "    \n",
    "lin_reg =GradientBoostingRegressor(n_estimators=48,min_samples_split=25,\n",
    "                                  max_features=0.999,max_depth=5)\n",
    "plot_learning_curves(lin_reg, X, y)\n",
    "plt.grid()\n",
    "plt.legend()\n",
    "plt.title(\"学习曲线\")\n",
    "X.shape, y.shape"
   ]
  },
  {
   "cell_type": "markdown",
   "metadata": {},
   "source": [
    "# AdaBoost"
   ]
  },
  {
   "cell_type": "code",
   "execution_count": null,
   "metadata": {},
   "outputs": [],
   "source": [
    "from sklearn.ensemble import AdaBoostRegressor\n",
    "clf =AdaBoostRegressor(random_state=123)\n",
    "clf.fit(X_train,y_train)"
   ]
  },
  {
   "cell_type": "code",
   "execution_count": null,
   "metadata": {},
   "outputs": [],
   "source": [
    "from sklearn.metrics import accuracy_score\n",
    "from sklearn.metrics import roc_auc_score\n",
    "\n",
    "y_pred = clf.predict(X_test)\n",
    "score = clf.score(X_test,y_test)\n",
    "print(\"模型预测准确率=\",score)"
   ]
  },
  {
   "cell_type": "code",
   "execution_count": null,
   "metadata": {},
   "outputs": [],
   "source": [
    "a = pd.DataFrame()    # 创建一个空DataFrame\n",
    "a[\"预测值\"] = list(y_pred)\n",
    "a[\"实际值\"] = list(y_test)\n",
    "a.head()"
   ]
  },
  {
   "cell_type": "code",
   "execution_count": null,
   "metadata": {},
   "outputs": [],
   "source": [
    "from sklearn.metrics import mean_squared_error\n",
    "MSE = mean_squared_error(y_test, y_pred)\n",
    "MSE"
   ]
  },
  {
   "cell_type": "code",
   "execution_count": null,
   "metadata": {},
   "outputs": [],
   "source": [
    "clf.feature_importances_"
   ]
  },
  {
   "cell_type": "code",
   "execution_count": null,
   "metadata": {},
   "outputs": [],
   "source": [
    "from sklearn.model_selection import GridSearchCV\n",
    "parameters = {\"n_estimators\":[20,30,40,50,60,80], \"learning_rate\":[0.05, 0.1, 0.2, 0.3,0.5,1]}\n",
    "model = AdaBoostRegressor()\n",
    "grid_search = GridSearchCV(model, parameters,  cv=5)\n",
    "grid_search.fit(X,y)     # 传入数据\n",
    "grid_search.best_params_             # 输出参数的最优值"
   ]
  },
  {
   "cell_type": "code",
   "execution_count": null,
   "metadata": {},
   "outputs": [],
   "source": [
    "from sklearn.ensemble import GradientBoostingRegressor\n",
    "model2 = AdaBoostRegressor(n_estimators=80,learning_rate=1)\n",
    "model2.fit(X_train, y_train)\n",
    "\n",
    "score = model2.score(X_test,y_test)\n",
    "print(\"模型预测准确率=\",score)"
   ]
  },
  {
   "cell_type": "code",
   "execution_count": null,
   "metadata": {},
   "outputs": [],
   "source": [
    "from sklearn.model_selection import cross_val_score\n",
    "from bayes_opt import BayesianOptimization\n",
    "def gbdt_cv(n_estimators):\n",
    "    res = cross_val_score( \n",
    "        AdaBoostRegressor(n_estimators=int(n_estimators), random_state=2\n",
    "        ),\n",
    "        X_train, y_train, cv=20\n",
    "    ).mean()\n",
    "    return res\n",
    "\n",
    "gbdt_op = BayesianOptimization(\n",
    "        gbdt_cv,\n",
    "        {'n_estimators': (10, 250),\n",
    "       }\n",
    "    )\n",
    "\n",
    "gbdt_op.maximize()"
   ]
  },
  {
   "cell_type": "code",
   "execution_count": null,
   "metadata": {},
   "outputs": [],
   "source": [
    "print(gbdt_op.max)"
   ]
  },
  {
   "cell_type": "code",
   "execution_count": null,
   "metadata": {},
   "outputs": [],
   "source": [
    "from sklearn.ensemble import GradientBoostingRegressor\n",
    "model3 = AdaBoostRegressor(n_estimators=10,learning_rate=1)\n",
    "model3.fit(X_train, y_train)\n",
    "\n",
    "score = model3.score(X_test,y_test)\n",
    "print(\"模型预测准确率=\",score)"
   ]
  },
  {
   "cell_type": "code",
   "execution_count": null,
   "metadata": {},
   "outputs": [],
   "source": [
    "import numpy as np\n",
    "import matplotlib.pyplot as plt\n",
    "\n",
    "plt.rcParams['font.sans-serif'] = ['SimHei'] # 指定默认字体\n",
    "plt.rcParams['axes.unicode_minus']=False    #解决负数坐标显示问题\n",
    "from sklearn.metrics import mean_squared_error\n",
    "from sklearn.model_selection import train_test_split\n",
    "import numpy as np\n",
    "def plot_learning_curves(model, X,y):\n",
    "    X_train, X_val, y_train, y_val = train_test_split(X,y, test_size=0.2)\n",
    "    train_errors, val_errors = [], []\n",
    "    for m in range(1, len(X_train)):\n",
    "        model.fit(X_train[:m], y_train[:m])\n",
    "        y_train_predict = model.predict(X_train[:m])\n",
    "        y_val_predict = model.predict(X_val)\n",
    "        train_errors.append(mean_squared_error(y_train_predict, y_train[:m]))\n",
    "        val_errors.append(mean_squared_error(y_val_predict, y_val))\n",
    "    plt.plot(np.sqrt(train_errors), \"r-+\", linewidth=2, label=\"train\")\n",
    "    plt.plot(np.sqrt(val_errors),\"b-\",linewidth=3, label=\"val\")\n",
    "    \n",
    "lin_reg =AdaBoostRegressor(n_estimators=10,learning_rate=1)\n",
    "plot_learning_curves(lin_reg, X, y)\n",
    "plt.grid()\n",
    "plt.legend()\n",
    "plt.title(\"学习曲线\")\n",
    "X.shape, y.shape"
   ]
  },
  {
   "cell_type": "code",
   "execution_count": null,
   "metadata": {},
   "outputs": [],
   "source": []
  },
  {
   "cell_type": "code",
   "execution_count": null,
   "metadata": {},
   "outputs": [],
   "source": []
  },
  {
   "cell_type": "code",
   "execution_count": null,
   "metadata": {},
   "outputs": [],
   "source": []
  },
  {
   "cell_type": "code",
   "execution_count": null,
   "metadata": {},
   "outputs": [],
   "source": []
  },
  {
   "cell_type": "code",
   "execution_count": null,
   "metadata": {},
   "outputs": [],
   "source": []
  },
  {
   "cell_type": "code",
   "execution_count": null,
   "metadata": {},
   "outputs": [],
   "source": []
  },
  {
   "cell_type": "code",
   "execution_count": null,
   "metadata": {},
   "outputs": [],
   "source": []
  },
  {
   "cell_type": "code",
   "execution_count": null,
   "metadata": {},
   "outputs": [],
   "source": []
  },
  {
   "cell_type": "code",
   "execution_count": null,
   "metadata": {},
   "outputs": [],
   "source": []
  },
  {
   "cell_type": "code",
   "execution_count": null,
   "metadata": {},
   "outputs": [],
   "source": []
  },
  {
   "cell_type": "code",
   "execution_count": null,
   "metadata": {},
   "outputs": [],
   "source": []
  },
  {
   "cell_type": "code",
   "execution_count": null,
   "metadata": {},
   "outputs": [],
   "source": []
  }
 ],
 "metadata": {
  "kernelspec": {
   "display_name": "Python 3",
   "language": "python",
   "name": "python3"
  },
  "language_info": {
   "codemirror_mode": {
    "name": "ipython",
    "version": 3
   },
   "file_extension": ".py",
   "mimetype": "text/x-python",
   "name": "python",
   "nbconvert_exporter": "python",
   "pygments_lexer": "ipython3",
   "version": "3.7.6"
  }
 },
 "nbformat": 4,
 "nbformat_minor": 2
}
