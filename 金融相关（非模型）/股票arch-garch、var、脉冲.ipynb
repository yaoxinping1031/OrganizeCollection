{
 "cells": [
  {
   "cell_type": "code",
   "execution_count": 1,
   "id": "4636f93b",
   "metadata": {},
   "outputs": [],
   "source": [
    "#导入股票数据\n",
    "\n",
    "import efinance as ef\n",
    "stock_code = '002594'\n",
    "df = ef.stock.get_quote_history(stock_code)"
   ]
  },
  {
   "cell_type": "code",
   "execution_count": 2,
   "id": "c136e309",
   "metadata": {},
   "outputs": [
    {
     "data": {
      "text/html": [
       "<div>\n",
       "<style scoped>\n",
       "    .dataframe tbody tr th:only-of-type {\n",
       "        vertical-align: middle;\n",
       "    }\n",
       "\n",
       "    .dataframe tbody tr th {\n",
       "        vertical-align: top;\n",
       "    }\n",
       "\n",
       "    .dataframe thead th {\n",
       "        text-align: right;\n",
       "    }\n",
       "</style>\n",
       "<table border=\"1\" class=\"dataframe\">\n",
       "  <thead>\n",
       "    <tr style=\"text-align: right;\">\n",
       "      <th></th>\n",
       "      <th>股票名称</th>\n",
       "      <th>股票代码</th>\n",
       "      <th>日期</th>\n",
       "      <th>开盘</th>\n",
       "      <th>收盘</th>\n",
       "      <th>最高</th>\n",
       "      <th>最低</th>\n",
       "      <th>成交量</th>\n",
       "      <th>成交额</th>\n",
       "      <th>振幅</th>\n",
       "      <th>涨跌幅</th>\n",
       "      <th>涨跌额</th>\n",
       "      <th>换手率</th>\n",
       "    </tr>\n",
       "  </thead>\n",
       "  <tbody>\n",
       "    <tr>\n",
       "      <th>0</th>\n",
       "      <td>比亚迪</td>\n",
       "      <td>002594</td>\n",
       "      <td>2011-06-30</td>\n",
       "      <td>19.61</td>\n",
       "      <td>23.06</td>\n",
       "      <td>23.80</td>\n",
       "      <td>19.61</td>\n",
       "      <td>562925</td>\n",
       "      <td>1.349342e+09</td>\n",
       "      <td>26.84</td>\n",
       "      <td>47.73</td>\n",
       "      <td>7.45</td>\n",
       "      <td>87.96</td>\n",
       "    </tr>\n",
       "    <tr>\n",
       "      <th>1</th>\n",
       "      <td>比亚迪</td>\n",
       "      <td>002594</td>\n",
       "      <td>2011-07-01</td>\n",
       "      <td>23.38</td>\n",
       "      <td>25.61</td>\n",
       "      <td>25.61</td>\n",
       "      <td>22.61</td>\n",
       "      <td>335613</td>\n",
       "      <td>8.986792e+08</td>\n",
       "      <td>13.01</td>\n",
       "      <td>11.06</td>\n",
       "      <td>2.55</td>\n",
       "      <td>52.44</td>\n",
       "    </tr>\n",
       "    <tr>\n",
       "      <th>2</th>\n",
       "      <td>比亚迪</td>\n",
       "      <td>002594</td>\n",
       "      <td>2011-07-04</td>\n",
       "      <td>26.49</td>\n",
       "      <td>28.41</td>\n",
       "      <td>28.41</td>\n",
       "      <td>26.19</td>\n",
       "      <td>219646</td>\n",
       "      <td>6.535179e+08</td>\n",
       "      <td>8.67</td>\n",
       "      <td>10.93</td>\n",
       "      <td>2.80</td>\n",
       "      <td>34.32</td>\n",
       "    </tr>\n",
       "    <tr>\n",
       "      <th>3</th>\n",
       "      <td>比亚迪</td>\n",
       "      <td>002594</td>\n",
       "      <td>2011-07-05</td>\n",
       "      <td>30.39</td>\n",
       "      <td>30.66</td>\n",
       "      <td>31.49</td>\n",
       "      <td>29.50</td>\n",
       "      <td>381081</td>\n",
       "      <td>1.257046e+09</td>\n",
       "      <td>7.00</td>\n",
       "      <td>7.92</td>\n",
       "      <td>2.25</td>\n",
       "      <td>59.54</td>\n",
       "    </tr>\n",
       "    <tr>\n",
       "      <th>4</th>\n",
       "      <td>比亚迪</td>\n",
       "      <td>002594</td>\n",
       "      <td>2011-07-06</td>\n",
       "      <td>30.41</td>\n",
       "      <td>31.01</td>\n",
       "      <td>33.16</td>\n",
       "      <td>29.72</td>\n",
       "      <td>312967</td>\n",
       "      <td>1.056614e+09</td>\n",
       "      <td>11.22</td>\n",
       "      <td>1.14</td>\n",
       "      <td>0.35</td>\n",
       "      <td>48.90</td>\n",
       "    </tr>\n",
       "    <tr>\n",
       "      <th>...</th>\n",
       "      <td>...</td>\n",
       "      <td>...</td>\n",
       "      <td>...</td>\n",
       "      <td>...</td>\n",
       "      <td>...</td>\n",
       "      <td>...</td>\n",
       "      <td>...</td>\n",
       "      <td>...</td>\n",
       "      <td>...</td>\n",
       "      <td>...</td>\n",
       "      <td>...</td>\n",
       "      <td>...</td>\n",
       "      <td>...</td>\n",
       "    </tr>\n",
       "    <tr>\n",
       "      <th>3028</th>\n",
       "      <td>比亚迪</td>\n",
       "      <td>002594</td>\n",
       "      <td>2023-12-29</td>\n",
       "      <td>198.97</td>\n",
       "      <td>198.00</td>\n",
       "      <td>199.80</td>\n",
       "      <td>197.15</td>\n",
       "      <td>80367</td>\n",
       "      <td>1.591970e+09</td>\n",
       "      <td>1.34</td>\n",
       "      <td>-0.03</td>\n",
       "      <td>-0.05</td>\n",
       "      <td>0.69</td>\n",
       "    </tr>\n",
       "    <tr>\n",
       "      <th>3029</th>\n",
       "      <td>比亚迪</td>\n",
       "      <td>002594</td>\n",
       "      <td>2024-01-02</td>\n",
       "      <td>199.61</td>\n",
       "      <td>192.60</td>\n",
       "      <td>199.62</td>\n",
       "      <td>192.37</td>\n",
       "      <td>113928</td>\n",
       "      <td>2.212162e+09</td>\n",
       "      <td>3.66</td>\n",
       "      <td>-2.73</td>\n",
       "      <td>-5.40</td>\n",
       "      <td>0.98</td>\n",
       "    </tr>\n",
       "    <tr>\n",
       "      <th>3030</th>\n",
       "      <td>比亚迪</td>\n",
       "      <td>002594</td>\n",
       "      <td>2024-01-03</td>\n",
       "      <td>192.50</td>\n",
       "      <td>193.17</td>\n",
       "      <td>193.87</td>\n",
       "      <td>190.70</td>\n",
       "      <td>84486</td>\n",
       "      <td>1.624093e+09</td>\n",
       "      <td>1.65</td>\n",
       "      <td>0.30</td>\n",
       "      <td>0.57</td>\n",
       "      <td>0.73</td>\n",
       "    </tr>\n",
       "    <tr>\n",
       "      <th>3031</th>\n",
       "      <td>比亚迪</td>\n",
       "      <td>002594</td>\n",
       "      <td>2024-01-04</td>\n",
       "      <td>194.34</td>\n",
       "      <td>193.02</td>\n",
       "      <td>194.65</td>\n",
       "      <td>191.10</td>\n",
       "      <td>89870</td>\n",
       "      <td>1.731882e+09</td>\n",
       "      <td>1.84</td>\n",
       "      <td>-0.08</td>\n",
       "      <td>-0.15</td>\n",
       "      <td>0.77</td>\n",
       "    </tr>\n",
       "    <tr>\n",
       "      <th>3032</th>\n",
       "      <td>比亚迪</td>\n",
       "      <td>002594</td>\n",
       "      <td>2024-01-05</td>\n",
       "      <td>192.47</td>\n",
       "      <td>194.83</td>\n",
       "      <td>197.50</td>\n",
       "      <td>191.13</td>\n",
       "      <td>71217</td>\n",
       "      <td>1.392730e+09</td>\n",
       "      <td>3.30</td>\n",
       "      <td>0.94</td>\n",
       "      <td>1.81</td>\n",
       "      <td>0.61</td>\n",
       "    </tr>\n",
       "  </tbody>\n",
       "</table>\n",
       "<p>3033 rows × 13 columns</p>\n",
       "</div>"
      ],
      "text/plain": [
       "     股票名称    股票代码          日期      开盘      收盘      最高      最低     成交量  \\\n",
       "0     比亚迪  002594  2011-06-30   19.61   23.06   23.80   19.61  562925   \n",
       "1     比亚迪  002594  2011-07-01   23.38   25.61   25.61   22.61  335613   \n",
       "2     比亚迪  002594  2011-07-04   26.49   28.41   28.41   26.19  219646   \n",
       "3     比亚迪  002594  2011-07-05   30.39   30.66   31.49   29.50  381081   \n",
       "4     比亚迪  002594  2011-07-06   30.41   31.01   33.16   29.72  312967   \n",
       "...   ...     ...         ...     ...     ...     ...     ...     ...   \n",
       "3028  比亚迪  002594  2023-12-29  198.97  198.00  199.80  197.15   80367   \n",
       "3029  比亚迪  002594  2024-01-02  199.61  192.60  199.62  192.37  113928   \n",
       "3030  比亚迪  002594  2024-01-03  192.50  193.17  193.87  190.70   84486   \n",
       "3031  比亚迪  002594  2024-01-04  194.34  193.02  194.65  191.10   89870   \n",
       "3032  比亚迪  002594  2024-01-05  192.47  194.83  197.50  191.13   71217   \n",
       "\n",
       "               成交额     振幅    涨跌幅   涨跌额    换手率  \n",
       "0     1.349342e+09  26.84  47.73  7.45  87.96  \n",
       "1     8.986792e+08  13.01  11.06  2.55  52.44  \n",
       "2     6.535179e+08   8.67  10.93  2.80  34.32  \n",
       "3     1.257046e+09   7.00   7.92  2.25  59.54  \n",
       "4     1.056614e+09  11.22   1.14  0.35  48.90  \n",
       "...            ...    ...    ...   ...    ...  \n",
       "3028  1.591970e+09   1.34  -0.03 -0.05   0.69  \n",
       "3029  2.212162e+09   3.66  -2.73 -5.40   0.98  \n",
       "3030  1.624093e+09   1.65   0.30  0.57   0.73  \n",
       "3031  1.731882e+09   1.84  -0.08 -0.15   0.77  \n",
       "3032  1.392730e+09   3.30   0.94  1.81   0.61  \n",
       "\n",
       "[3033 rows x 13 columns]"
      ]
     },
     "execution_count": 2,
     "metadata": {},
     "output_type": "execute_result"
    }
   ],
   "source": [
    "df"
   ]
  },
  {
   "cell_type": "code",
   "execution_count": 30,
   "id": "da4ad25f",
   "metadata": {},
   "outputs": [],
   "source": [
    "data = df['收盘'].dropna()[-1500:]"
   ]
  },
  {
   "cell_type": "code",
   "execution_count": 31,
   "id": "ebe940b7",
   "metadata": {},
   "outputs": [],
   "source": [
    "data = data.astype(float)"
   ]
  },
  {
   "cell_type": "code",
   "execution_count": 32,
   "id": "7c374bbf",
   "metadata": {},
   "outputs": [],
   "source": [
    "date = df['日期'][-1500:]"
   ]
  },
  {
   "cell_type": "code",
   "execution_count": 33,
   "id": "13985e89",
   "metadata": {},
   "outputs": [
    {
     "data": {
      "text/plain": [
       "1533    2017-11-07\n",
       "1534    2017-11-08\n",
       "1535    2017-11-09\n",
       "1536    2017-11-10\n",
       "1537    2017-11-13\n",
       "           ...    \n",
       "3028    2023-12-29\n",
       "3029    2024-01-02\n",
       "3030    2024-01-03\n",
       "3031    2024-01-04\n",
       "3032    2024-01-05\n",
       "Name: 日期, Length: 1500, dtype: object"
      ]
     },
     "execution_count": 33,
     "metadata": {},
     "output_type": "execute_result"
    }
   ],
   "source": [
    "date"
   ]
  },
  {
   "cell_type": "code",
   "execution_count": 34,
   "id": "c8588770",
   "metadata": {},
   "outputs": [
    {
     "data": {
      "image/png": "[encoded data removed]",
      "text/plain": [
       "<Figure size 864x432 with 1 Axes>"
      ]
     },
     "metadata": {
      "needs_background": "light"
     },
     "output_type": "display_data"
    }
   ],
   "source": [
    "import matplotlib.pyplot as plt\n",
    "# 绘制时序图\n",
    "plt.figure(figsize=(12, 6))\n",
    "plt.plot(date, data, label='Time Series Data')\n",
    "plt.title('Time Series Plot')\n",
    "plt.xticks(range(1,len(data),50),rotation=45)\n",
    "plt.xlabel('Date')\n",
    "plt.ylabel('Value')\n",
    "plt.legend()\n",
    "plt.show()"
   ]
  },
  {
   "cell_type": "markdown",
   "id": "e7946943",
   "metadata": {},
   "source": [
    "2023年10月30日，公司股价经历了一次突发的锐跌，在此之前，股价一直在相对稳定的范围内波动，维持在40的水平，这次锐跌可能受到多种因素的影响。"
   ]
  },
  {
   "cell_type": "code",
   "execution_count": 35,
   "id": "38df95d2",
   "metadata": {},
   "outputs": [
    {
     "data": {
      "image/png": "[encoded data removed]",
      "text/plain": [
       "<Figure size 576x360 with 1 Axes>"
      ]
     },
     "metadata": {
      "needs_background": "light"
     },
     "output_type": "display_data"
    }
   ],
   "source": [
    "import seaborn as sns\n",
    "\n",
    "# 绘制分布图\n",
    "plt.figure(figsize=(8, 5))\n",
    "sns.histplot(data, bins=30, kde=True, color='blue')\n",
    "plt.title('Distribution Plot')\n",
    "plt.xlabel('Value')\n",
    "plt.ylabel('Frequency')\n",
    "plt.show()"
   ]
  },
  {
   "cell_type": "markdown",
   "id": "278f807c",
   "metadata": {},
   "source": [
    "分布图呈现了一种随机的形态"
   ]
  },
  {
   "cell_type": "code",
   "execution_count": 36,
   "id": "75951b8b",
   "metadata": {},
   "outputs": [
    {
     "name": "stdout",
     "output_type": "stream",
     "text": [
      "\n",
      "Descriptive Statistics Table:\n",
      "count    1500.000000\n",
      "mean      156.159920\n",
      "std       101.549025\n",
      "min        35.490000\n",
      "25%        52.842500\n",
      "50%       165.610000\n",
      "75%       252.597500\n",
      "max       352.250000\n",
      "Name: 收盘, dtype: float64\n"
     ]
    }
   ],
   "source": [
    "# 描述性统计分析表格\n",
    "stat_table = data.describe()\n",
    "\n",
    "# 打印统计表格\n",
    "print(\"\\nDescriptive Statistics Table:\")\n",
    "print(stat_table)"
   ]
  },
  {
   "cell_type": "markdown",
   "id": "a106c205",
   "metadata": {},
   "source": [
    "收盘价的均值为156.16，中位数为165.61。由于均值和中位数相对接近，可以认为收盘价的分布趋于对称。  \n",
    "标准差为101.55，说明收盘价的波动性相对较高。较大的标准差表明数据点相对于均值具有较大的离散度。  \n",
    "最小值为35.49，最大值为352.25。这表明收盘价的范围相对较广，从最低到最高有较大的变化。  \n",
    "第一四分位数为52.84，第三四分位数为252.60。这两个值揭示了数据点在整个范围内的分布情况。25%的数据点低于52.84，而75%的数据点低于252.60。  \n",
    "基于以上分析，收盘价的分布呈现出一定的波动性，可能受到多种因素的影响。"
   ]
  },
  {
   "cell_type": "markdown",
   "id": "9d1d0527",
   "metadata": {},
   "source": [
    "## 1. ﻿﻿检验该股票日收益率的平方是否存在 ARCH 效应，并建立 ARMA -GARCH 模型。 ",
    "假设该股票收益率服从正态分布，预测其波动率。"
   ]
  },
  {
   "cell_type": "code",
   "execution_count": 17,
   "id": "a0023d5e",
   "metadata": {},
   "outputs": [],
   "source": [
    "import pandas as pd\n",
    "import numpy as np\n",
    "import matplotlib.pyplot as plt\n",
    "from arch import arch_model\n",
    "from statsmodels.tsa.arima.model import ARIMA"
   ]
  },
  {
   "cell_type": "code",
   "execution_count": 37,
   "id": "bf7f52b7",
   "metadata": {},
   "outputs": [],
   "source": [
    "\n",
    "\n",
    "# 计算日收益率\n",
    "returns = data.pct_change().dropna()\n",
    "\n",
    "# 计算平方收益率\n",
    "squared_returns = returns**2\n"
   ]
  },
  {
   "cell_type": "code",
   "execution_count": 38,
   "id": "af1d9e1a",
   "metadata": {},
   "outputs": [
    {
     "data": {
      "image/png": "[encoded data removed]",
      "text/plain": [
       "<Figure size 432x288 with 1 Axes>"
      ]
     },
     "metadata": {
      "needs_background": "light"
     },
     "output_type": "display_data"
    },
    {
     "data": {
      "text/plain": [
       "1534    8.429308e-04\n",
       "1535    8.940731e-05\n",
       "1536    2.638597e-05\n",
       "1537    1.384269e-03\n",
       "1538    9.453599e-04\n",
       "            ...     \n",
       "3028    6.373681e-08\n",
       "3029    7.438017e-04\n",
       "3030    8.758649e-06\n",
       "3031    6.029803e-07\n",
       "3032    8.793313e-05\n",
       "Name: 收盘, Length: 1499, dtype: float64"
      ]
     },
     "execution_count": 38,
     "metadata": {},
     "output_type": "execute_result"
    }
   ],
   "source": [
    "# 计算平方收益率\n",
    "squared_returns = returns**2\n",
    "\n",
    "# 绘制平方收益率的时序图\n",
    "plt.plot(squared_returns)\n",
    "plt.title('Squared Returns Time Series')\n",
    "plt.show()\n",
    "squared_returns"
   ]
  },
  {
   "cell_type": "code",
   "execution_count": 39,
   "id": "253eac24",
   "metadata": {},
   "outputs": [
    {
     "data": {
      "image/png": "[encoded data removed]",
      "text/plain": [
       "<Figure size 432x288 with 1 Axes>"
      ]
     },
     "metadata": {
      "needs_background": "light"
     },
     "output_type": "display_data"
    },
    {
     "data": {
      "image/png": "[encoded data removed]",
      "text/plain": [
       "<Figure size 432x288 with 1 Axes>"
      ]
     },
     "metadata": {
      "needs_background": "light"
     },
     "output_type": "display_data"
    }
   ],
   "source": [
    "from statsmodels.graphics.tsaplots import plot_acf as ACF #自相关图\n",
    "from statsmodels.tsa.stattools import adfuller as ADF  #平稳性检测\n",
    "from statsmodels.graphics.tsaplots import plot_pacf as PACF   #偏自相关图\n",
    "lag_acf = ACF(data, lags=30)\n",
    "lag_pacf = PACF(data, lags=30)\n",
    "plt.show()      "
   ]
  },
  {
   "cell_type": "code",
   "execution_count": 40,
   "id": "5f20e851",
   "metadata": {},
   "outputs": [
    {
     "name": "stdout",
     "output_type": "stream",
     "text": [
      "Iteration:      1,   Func. Count:      5,   Neg. LLF: -7660.757992478176\n",
      "Inequality constraints incompatible    (Exit mode 4)\n",
      "            Current function value: -7660.757990911887\n",
      "            Iterations: 1\n",
      "            Function evaluations: 5\n",
      "            Gradient evaluations: 1\n",
      "                     Constant Mean - GARCH Model Results                      \n",
      "==============================================================================\n",
      "Dep. Variable:                     收盘   R-squared:                       0.000\n",
      "Mean Model:             Constant Mean   Adj. R-squared:                  0.000\n",
      "Vol Model:                      GARCH   Log-Likelihood:                7660.76\n",
      "Distribution:                  Normal   AIC:                          -15313.5\n",
      "Method:            Maximum Likelihood   BIC:                          -15292.3\n",
      "                                        No. Observations:                 1499\n",
      "Date:                Fri, Jan 05 2024   Df Residuals:                     1498\n",
      "Time:                        12:30:01   Df Model:                            1\n",
      "                                 Mean Model                                 \n",
      "============================================================================\n",
      "                 coef    std err          t      P>|t|      95.0% Conf. Int.\n",
      "----------------------------------------------------------------------------\n",
      "mu         8.2301e-04  5.834e-08  1.411e+04      0.000 [8.229e-04,8.231e-04]\n",
      "                              Volatility Model                              \n",
      "============================================================================\n",
      "                 coef    std err          t      P>|t|      95.0% Conf. Int.\n",
      "----------------------------------------------------------------------------\n",
      "omega      5.3299e-08  4.463e-12  1.194e+04      0.000 [5.329e-08,5.331e-08]\n",
      "alpha[1]       0.0500  2.041e-02      2.450  1.430e-02 [9.994e-03,9.001e-02]\n",
      "beta[1]        0.9300  1.791e-02     51.916      0.000     [  0.895,  0.965]\n",
      "============================================================================\n",
      "\n",
      "Covariance estimator: robust\n",
      "WARNING: The optimizer did not indicate successful convergence. The message was Inequality constraints incompatible.\n",
      "See convergence_flag.\n",
      "\n"
     ]
    },
    {
     "name": "stderr",
     "output_type": "stream",
     "text": [
      "/Users/apple/opt/anaconda3/lib/python3.8/site-packages/arch/univariate/base.py:310: DataScaleWarning: y is poorly scaled, which may affect convergence of the optimizer when\n",
      "estimating the model parameters. The scale of y is 2.665e-06. Parameter\n",
      "estimation work better when this value is between 1 and 1000. The recommended\n",
      "rescaling is 1000 * y.\n",
      "\n",
      "This warning can be disabled by either rescaling y before initializing the\n",
      "model or by setting rescale=False.\n",
      "\n",
      "  warnings.warn(\n",
      "/Users/apple/opt/anaconda3/lib/python3.8/site-packages/arch/univariate/base.py:765: ConvergenceWarning: The optimizer returned code 4. The message is:\n",
      "Inequality constraints incompatible\n",
      "See scipy.optimize.fmin_slsqp for code meaning.\n",
      "\n",
      "  warnings.warn(\n"
     ]
    }
   ],
   "source": [
    "\n",
    "# 检验平方收益率的ARCH效应\n",
    "am = arch_model(squared_returns, vol='Garch', p=1, q=1)\n",
    "res = am.fit()\n",
    "print(res.summary())"
   ]
  },
  {
   "cell_type": "markdown",
   "id": "7c260754",
   "metadata": {},
   "source": [
    "在模型结果中，alpha[1] 表示ARCH项的系数。ARCH效应是指时间序列中的异方差性，即波动性的变化。在这里，如果 alpha[1] 的估计值显著不等于零，那么就存在ARCH效应。\n",
    "\n",
    "从模型结果中可以看到：  \n",
    "alpha[1]（ARCH项系数）：0.05，P值为0.0143。\n",
    "\n",
    "由于P值小于通常使用的显著性水平（例如0.05），我们可以拒绝零假设，即 alpha[1] 不等于零。这表明存在ARCH效应，即平方收益率的方差受到过去平方收益率的影响。\n",
    "\n",
    "综合来看，根据模型结果，存在ARCH效应。然而，请注意，除了参数显著性外，还需要考虑其他模型诊断和残差分析来确保模型的有效性。"
   ]
  },
  {
   "cell_type": "code",
   "execution_count": 42,
   "id": "766beacd",
   "metadata": {},
   "outputs": [
    {
     "name": "stderr",
     "output_type": "stream",
     "text": [
      "/Users/apple/opt/anaconda3/lib/python3.8/site-packages/statsmodels/tsa/base/tsa_model.py:473: ValueWarning: An unsupported index was provided and will be ignored when e.g. forecasting.\n",
      "  self._init_dates(dates, freq)\n",
      "/Users/apple/opt/anaconda3/lib/python3.8/site-packages/statsmodels/tsa/base/tsa_model.py:473: ValueWarning: An unsupported index was provided and will be ignored when e.g. forecasting.\n",
      "  self._init_dates(dates, freq)\n",
      "/Users/apple/opt/anaconda3/lib/python3.8/site-packages/statsmodels/tsa/base/tsa_model.py:473: ValueWarning: An unsupported index was provided and will be ignored when e.g. forecasting.\n",
      "  self._init_dates(dates, freq)\n",
      "/Users/apple/opt/anaconda3/lib/python3.8/site-packages/statsmodels/tsa/statespace/sarimax.py:966: UserWarning: Non-stationary starting autoregressive parameters found. Using zeros as starting parameters.\n",
      "  warn('Non-stationary starting autoregressive parameters'\n",
      "/Users/apple/opt/anaconda3/lib/python3.8/site-packages/statsmodels/tsa/statespace/sarimax.py:978: UserWarning: Non-invertible starting MA parameters found. Using zeros as starting parameters.\n",
      "  warn('Non-invertible starting MA parameters found.'\n"
     ]
    }
   ],
   "source": [
    "# 拟合ARIMA模型（示例中为ARIMA(1,0,1)，你可以根据实际情况调整）\n",
    "arma_order = (1, 0, 1)\n",
    "arma_model = ARIMA(returns, order=arma_order)\n",
    "arma_results = arma_model.fit()"
   ]
  },
  {
   "cell_type": "code",
   "execution_count": 43,
   "id": "b77a3669",
   "metadata": {},
   "outputs": [
    {
     "name": "stdout",
     "output_type": "stream",
     "text": [
      "Iteration:      1,   Func. Count:      6,   Neg. LLF: 342454275.3139443\n",
      "Iteration:      2,   Func. Count:     17,   Neg. LLF: -3286.070144768468\n",
      "Optimization terminated successfully    (Exit mode 0)\n",
      "            Current function value: -3286.0701484660613\n",
      "            Iterations: 6\n",
      "            Function evaluations: 17\n",
      "            Gradient evaluations: 2\n"
     ]
    },
    {
     "name": "stderr",
     "output_type": "stream",
     "text": [
      "/Users/apple/opt/anaconda3/lib/python3.8/site-packages/arch/univariate/base.py:310: DataScaleWarning: y is poorly scaled, which may affect convergence of the optimizer when\n",
      "estimating the model parameters. The scale of y is 0.0008217. Parameter\n",
      "estimation work better when this value is between 1 and 1000. The recommended\n",
      "rescaling is 100 * y.\n",
      "\n",
      "This warning can be disabled by either rescaling y before initializing the\n",
      "model or by setting rescale=False.\n",
      "\n",
      "  warnings.warn(\n"
     ]
    }
   ],
   "source": [
    "# 提取ARMA模型的残差\n",
    "residuals = arma_results.resid\n",
    "\n",
    "# 拟合GARCH模型（示例中为GARCH(1,1)，你可以根据实际情况调整）\n",
    "garch_order = (1, 1)\n",
    "garch_model = arch_model(residuals, vol='Garch', p=garch_order[0], q=garch_order[1])\n",
    "garch_results = garch_model.fit()"
   ]
  },
  {
   "cell_type": "code",
   "execution_count": 44,
   "id": "7c906164",
   "metadata": {},
   "outputs": [
    {
     "name": "stdout",
     "output_type": "stream",
     "text": [
      "ARMA模型结果：\n",
      "                               SARIMAX Results                                \n",
      "==============================================================================\n",
      "Dep. Variable:                     收盘   No. Observations:                 1499\n",
      "Model:                 ARIMA(1, 0, 1)   Log Likelihood                3197.576\n",
      "Date:                Fri, 05 Jan 2024   AIC                          -6387.152\n",
      "Time:                        12:32:08   BIC                          -6365.902\n",
      "Sample:                             0   HQIC                         -6379.236\n",
      "                               - 1499                                         \n",
      "Covariance Type:                  opg                                         \n",
      "==============================================================================\n",
      "                 coef    std err          z      P>|z|      [0.025      0.975]\n",
      "------------------------------------------------------------------------------\n",
      "const          0.0012      0.001      1.527      0.127      -0.000       0.003\n",
      "ar.L1       2.033e-06      0.012      0.000      1.000      -0.023       0.023\n",
      "ma.L1       2.028e-06      0.012      0.000      1.000      -0.023       0.023\n",
      "sigma2         0.0008    2.2e-05     37.375      0.000       0.001       0.001\n",
      "===================================================================================\n",
      "Ljung-Box (L1) (Q):                   0.02   Jarque-Bera (JB):               255.85\n",
      "Prob(Q):                              0.88   Prob(JB):                         0.00\n",
      "Heteroskedasticity (H):               0.85   Skew:                             0.37\n",
      "Prob(H) (two-sided):                  0.07   Kurtosis:                         4.88\n",
      "===================================================================================\n",
      "\n",
      "Warnings:\n",
      "[1] Covariance matrix calculated using the outer product of gradients (complex-step).\n",
      "[2] Covariance matrix is singular or near-singular, with condition number 4.28e+16. Standard errors may be unstable.\n",
      "\n",
      "GARCH模型结果：\n",
      "                     Constant Mean - GARCH Model Results                      \n",
      "==============================================================================\n",
      "Dep. Variable:                   None   R-squared:                       0.000\n",
      "Mean Model:             Constant Mean   Adj. R-squared:                  0.000\n",
      "Vol Model:                      GARCH   Log-Likelihood:                3286.07\n",
      "Distribution:                  Normal   AIC:                          -6564.14\n",
      "Method:            Maximum Likelihood   BIC:                          -6542.89\n",
      "                                        No. Observations:                 1499\n",
      "Date:                Fri, Jan 05 2024   Df Residuals:                     1498\n",
      "Time:                        12:31:50   Df Model:                            1\n",
      "                                  Mean Model                                  \n",
      "==============================================================================\n",
      "                  coef    std err          t      P>|t|       95.0% Conf. Int.\n",
      "------------------------------------------------------------------------------\n",
      "mu         -1.0157e-03  6.076e-04     -1.672  9.458e-02 [-2.207e-03,1.751e-04]\n",
      "                              Volatility Model                              \n",
      "============================================================================\n",
      "                 coef    std err          t      P>|t|      95.0% Conf. Int.\n",
      "----------------------------------------------------------------------------\n",
      "omega      1.6437e-05  1.017e-11  1.617e+06      0.000 [1.644e-05,1.644e-05]\n",
      "alpha[1]       0.0500  1.027e-02      4.868  1.125e-06 [2.987e-02,7.013e-02]\n",
      "beta[1]        0.9300  9.532e-03     97.564      0.000     [  0.911,  0.949]\n",
      "============================================================================\n",
      "\n",
      "Covariance estimator: robust\n"
     ]
    }
   ],
   "source": [
    "# 输出ARMA和GARCH模型的结果\n",
    "print(\"ARMA模型结果：\")\n",
    "print(arma_results.summary())\n",
    "print(\"\\nGARCH模型结果：\")\n",
    "print(garch_results.summary())"
   ]
  },
  {
   "cell_type": "markdown",
   "id": "98ee44a4",
   "metadata": {},
   "source": [
    "模型对数据拟合效果较好，GARCH模型表明存在ARCH效应，即平方收益率的方差受到过去平方收益率的影响。"
   ]
  },
  {
   "cell_type": "code",
   "execution_count": 45,
   "id": "c0acd0a1",
   "metadata": {},
   "outputs": [
    {
     "name": "stderr",
     "output_type": "stream",
     "text": [
      "/Users/apple/opt/anaconda3/lib/python3.8/site-packages/arch/__future__/_utility.py:11: FutureWarning: \n",
      "The default for reindex is True. After September 2021 this will change to\n",
      "False. Set reindex to True or False to silence this message. Alternatively,\n",
      "you can use the import comment\n",
      "\n",
      "from arch.__future__ import reindexing\n",
      "\n",
      "to globally set reindex to True and silence this warning.\n",
      "\n",
      "  warnings.warn(\n"
     ]
    }
   ],
   "source": [
    "# 预测未来一年的波动率\n",
    "forecast_horizon = 250  # 一年大致有250个交易日\n",
    "forecasts = garch_results.forecast(horizon=forecast_horizon)"
   ]
  },
  {
   "cell_type": "code",
   "execution_count": 46,
   "id": "b7fa611f",
   "metadata": {},
   "outputs": [],
   "source": [
    "weilai = forecasts.variance.dropna()\n",
    "lumber = weilai.iloc[0]"
   ]
  },
  {
   "cell_type": "code",
   "execution_count": 48,
   "id": "0148132d",
   "metadata": {},
   "outputs": [
    {
     "data": {
      "image/png": "[encoded data removed]",
      "text/plain": [
       "<Figure size 432x288 with 1 Axes>"
      ]
     },
     "metadata": {
      "needs_background": "light"
     },
     "output_type": "display_data"
    }
   ],
   "source": [
    "# 绘制波动率预测图,预测未来一年\n",
    "plt.plot(lumber)\n",
    "plt.title('Volatility Forecast for the Next Year (ARMA-GARCH)')\n",
    "plt.xticks(range(1,len(lumber),100),rotation=45) #为了横坐标显示清楚，通过间隔50个显示一个值\n",
    "plt.show()"
   ]
  },
  {
   "cell_type": "markdown",
   "id": "91aa916e",
   "metadata": {},
   "source": [
    "## 2. ﻿﻿检验建立的 ARMA- GARCH 模型是否消除了 ARCH 效应，并评估该模型对波动率的预测效果（为简化计算，用收益率平方代表该股票实际波动率)。"
   ]
  },
  {
   "cell_type": "code",
   "execution_count": 49,
   "id": "0cb97fdc",
   "metadata": {},
   "outputs": [
    {
     "name": "stdout",
     "output_type": "stream",
     "text": [
      "\n",
      "ARCH效应检验结果:\n",
      "ARCH-LM Test\n",
      "H0: Residuals are homoskedastic.\n",
      "ARCH-LM Test\n",
      "H1: Residuals are conditionally heteroskedastic.\n",
      "Statistic: 54.6447\n",
      "P-value: 0.0000\n",
      "Distributed: chi2(5)\n"
     ]
    }
   ],
   "source": [
    "# 检验残差序列是否还存在ARCH效应\n",
    "arch_test_result = garch_results.arch_lm_test(lags=5)\n",
    "print(\"\\nARCH效应检验结果:\")\n",
    "print(arch_test_result)"
   ]
  },
  {
   "cell_type": "markdown",
   "id": "730db58e",
   "metadata": {},
   "source": [
    "根据ARCH-LM检验的结果，得到的统计量为54.6447，对应的p-value为0.0000。在统计学中，p-value是用于判断原假设是否应该被拒绝的标准，通常如果p-value小于显著性水平（通常设定为0.05），我们有足够的证据拒绝原假设。\n",
    "\n",
    "在这里，原假设是残差是同方差的，而备择假设是残差是有条件异方差的。由于p-value小于0.05，我们可以拒绝原假设，即在这个模型中存在ARCH效应，即残差是有条件异方差的。这表明在时间序列中，波动率不是固定的，而是会随着时间的推移而发生变化，存在一定的波动。\n",
    "\n",
    "综合之前的GARCH模型结果和ARCH-LM检验，可以得出时间序列数据在波动率方面可能存在一定的异方差性，这也验证了之前选择GARCH模型的合理性。在进行进一步分析和预测时，可以考虑使用考虑到异方差性的模型来更准确地捕捉未来波动率的变化。"
   ]
  },
  {
   "cell_type": "code",
   "execution_count": 50,
   "id": "90df78f8",
   "metadata": {},
   "outputs": [
    {
     "name": "stderr",
     "output_type": "stream",
     "text": [
      "/Users/apple/opt/anaconda3/lib/python3.8/site-packages/statsmodels/tsa/base/tsa_model.py:473: ValueWarning: An unsupported index was provided and will be ignored when e.g. forecasting.\n",
      "  self._init_dates(dates, freq)\n",
      "/Users/apple/opt/anaconda3/lib/python3.8/site-packages/statsmodels/tsa/base/tsa_model.py:473: ValueWarning: An unsupported index was provided and will be ignored when e.g. forecasting.\n",
      "  self._init_dates(dates, freq)\n",
      "/Users/apple/opt/anaconda3/lib/python3.8/site-packages/statsmodels/tsa/base/tsa_model.py:473: ValueWarning: An unsupported index was provided and will be ignored when e.g. forecasting.\n",
      "  self._init_dates(dates, freq)\n",
      "/Users/apple/opt/anaconda3/lib/python3.8/site-packages/statsmodels/tsa/statespace/sarimax.py:966: UserWarning: Non-stationary starting autoregressive parameters found. Using zeros as starting parameters.\n",
      "  warn('Non-stationary starting autoregressive parameters'\n",
      "/Users/apple/opt/anaconda3/lib/python3.8/site-packages/statsmodels/tsa/statespace/sarimax.py:978: UserWarning: Non-invertible starting MA parameters found. Using zeros as starting parameters.\n",
      "  warn('Non-invertible starting MA parameters found.'\n",
      "/Users/apple/opt/anaconda3/lib/python3.8/site-packages/arch/univariate/base.py:310: DataScaleWarning: y is poorly scaled, which may affect convergence of the optimizer when\n",
      "estimating the model parameters. The scale of y is 0.0009269. Parameter\n",
      "estimation work better when this value is between 1 and 1000. The recommended\n",
      "rescaling is 100 * y.\n",
      "\n",
      "This warning can be disabled by either rescaling y before initializing the\n",
      "model or by setting rescale=False.\n",
      "\n",
      "  warnings.warn(\n"
     ]
    },
    {
     "name": "stdout",
     "output_type": "stream",
     "text": [
      "Iteration:      1,   Func. Count:      6,   Neg. LLF: 167567156.1776512\n",
      "Iteration:      2,   Func. Count:     17,   Neg. LLF: -2636.4116993159187\n",
      "Optimization terminated successfully    (Exit mode 0)\n",
      "            Current function value: -2636.411700130515\n",
      "            Iterations: 6\n",
      "            Function evaluations: 17\n",
      "            Gradient evaluations: 2\n"
     ]
    },
    {
     "name": "stderr",
     "output_type": "stream",
     "text": [
      "/Users/apple/opt/anaconda3/lib/python3.8/site-packages/arch/__future__/_utility.py:11: FutureWarning: \n",
      "The default for reindex is True. After September 2021 this will change to\n",
      "False. Set reindex to True or False to silence this message. Alternatively,\n",
      "you can use the import comment\n",
      "\n",
      "from arch.__future__ import reindexing\n",
      "\n",
      "to globally set reindex to True and silence this warning.\n",
      "\n",
      "  warnings.warn(\n"
     ]
    }
   ],
   "source": [
    "data2 = data[:-250]\n",
    "\n",
    "# 计算日收益率\n",
    "returns = data2.pct_change().dropna()\n",
    "\n",
    "# 拟合ARIMA模型（示例中为ARIMA(1,0,1)，你可以根据实际情况调整）\n",
    "arma_order = (1, 0, 1)\n",
    "arma_model = ARIMA(returns, order=arma_order)\n",
    "arma_results = arma_model.fit()\n",
    "\n",
    "# 提取ARMA模型的残差\n",
    "residuals = arma_results.resid\n",
    "\n",
    "# 拟合GARCH模型（示例中为GARCH(1,1)，你可以根据实际情况调整）\n",
    "garch_order = (1, 1)\n",
    "garch_model = arch_model(residuals, vol='Garch', p=garch_order[0], q=garch_order[1])\n",
    "garch_results = garch_model.fit()\n",
    "\n",
    "# 预测未来一年的波动率\n",
    "forecast_horizon = 250 # 一年大致有252个交易日\n",
    "forecasts = garch_results.forecast(horizon=forecast_horizon)"
   ]
  },
  {
   "cell_type": "code",
   "execution_count": 51,
   "id": "393cf17a",
   "metadata": {},
   "outputs": [],
   "source": [
    "lum2 = forecasts.variance.dropna().iloc[0]"
   ]
  },
  {
   "cell_type": "code",
   "execution_count": 57,
   "id": "be344afd",
   "metadata": {},
   "outputs": [],
   "source": [
    "returns = data[-251:].pct_change().dropna()"
   ]
  },
  {
   "cell_type": "code",
   "execution_count": 58,
   "id": "662e0799",
   "metadata": {},
   "outputs": [
    {
     "data": {
      "text/plain": [
       "h.001    0.000569\n",
       "h.002    0.000577\n",
       "h.003    0.000584\n",
       "h.004    0.000590\n",
       "h.005    0.000597\n",
       "           ...   \n",
       "h.246    0.000925\n",
       "h.247    0.000925\n",
       "h.248    0.000925\n",
       "h.249    0.000925\n",
       "h.250    0.000925\n",
       "Name: 2782, Length: 250, dtype: float64"
      ]
     },
     "execution_count": 58,
     "metadata": {},
     "output_type": "execute_result"
    }
   ],
   "source": [
    "lum2"
   ]
  },
  {
   "cell_type": "code",
   "execution_count": 59,
   "id": "d3bf2fb5",
   "metadata": {},
   "outputs": [],
   "source": [
    "date = df['日期']"
   ]
  },
  {
   "cell_type": "code",
   "execution_count": 60,
   "id": "a81d4f60",
   "metadata": {},
   "outputs": [
    {
     "data": {
      "image/png": "[encoded data removed]",
      "text/plain": [
       "<Figure size 432x288 with 1 Axes>"
      ]
     },
     "metadata": {
      "needs_background": "light"
     },
     "output_type": "display_data"
    }
   ],
   "source": [
    "# 计算实际波动率（使用平方收益率）\n",
    "actual_volatility = returns**2\n",
    "\n",
    "# 绘制波动率预测图\n",
    "plt.plot(date[-250:],lum2, label='Forecasted Volatility')\n",
    "plt.plot(date[-250:],returns, label='Actual Volatility (Squared Returns)')\n",
    "plt.legend()\n",
    "plt.xticks(range(1,len(date[-252:]),20),rotation=45) #为了横坐标显示清楚，通过间隔50个显示一个值\n",
    "plt.title('Volatility Forecast vs Actual Volatility')\n",
    "plt.show()"
   ]
  },
  {
   "cell_type": "code",
   "execution_count": 62,
   "id": "ad99b4c6",
   "metadata": {},
   "outputs": [
    {
     "data": {
      "text/plain": [
       "h.001    0.000569\n",
       "h.002    0.000577\n",
       "h.003    0.000584\n",
       "h.004    0.000590\n",
       "h.005    0.000597\n",
       "           ...   \n",
       "h.246    0.000925\n",
       "h.247    0.000925\n",
       "h.248    0.000925\n",
       "h.249    0.000925\n",
       "h.250    0.000925\n",
       "Name: 2782, Length: 250, dtype: float64"
      ]
     },
     "execution_count": 62,
     "metadata": {},
     "output_type": "execute_result"
    }
   ],
   "source": [
    "lum2"
   ]
  },
  {
   "cell_type": "markdown",
   "id": "74a0e085",
   "metadata": {},
   "source": [
    "为了计算模型预测与实际值之间的均方误差（MSE）等类似的值，可以使用相应的性能评估指标。"
   ]
  },
  {
   "cell_type": "markdown",
   "id": "9585b12e",
   "metadata": {},
   "source": [
    "均方误差（MSE）是评估预测模型性能的一种指标，它衡量了模型的预测值与实际观测值之间的平方差的平均值。MSE越小，说明模型的预测值越接近实际观测值，模型性能越好。\n",
    "\n",
    "在这里，得到的均方误差为0.00029388083768364326，这是一个较小的值，表明您的模型在对未来波动率的预测方面表现较好。然而，具体的评估需要结合具体的应用场景和数据特点进行，可以将MSE与其他性能指标一起考虑，以全面评估模型的表现。"
   ]
  },
  {
   "cell_type": "code",
   "execution_count": 63,
   "id": "9066c34b",
   "metadata": {},
   "outputs": [
    {
     "name": "stdout",
     "output_type": "stream",
     "text": [
      "均方误差 (MSE): 0.00029388083768364326\n"
     ]
    }
   ],
   "source": [
    "from sklearn.metrics import mean_squared_error\n",
    "\n",
    "# 计算MSE\n",
    "mse = mean_squared_error(lum2, returns)\n",
    "\n",
    "# 打印MSE\n",
    "print(\"均方误差 (MSE):\", mse)"
   ]
  },
  {
   "cell_type": "markdown",
   "id": "9a455a12",
   "metadata": {},
   "source": [
    "## 3. ﻿﻿﻿如果假设该股票收益率服从 student-t 分布，是否会提高波动率预测效果？"
   ]
  },
  {
   "cell_type": "markdown",
   "id": "e86d0493",
   "metadata": {},
   "source": [
    "可以使用t-GARCH模型来拟合这种分布。这是因为t分布相比于正态分布具有更重的尾部，能更好地捕捉极端事件。  \n",
    "假设股票收益率服从t分布可以更好地捕捉尾部的厚尾特性，相对于正态分布，这在面对极端事件时可能提高模型的预测效果。然而，效果的提升并非总是保证的，因为股票市场波动性受多种因素影响，而分布的假设仅是其中之一。"
   ]
  },
  {
   "cell_type": "code",
   "execution_count": 64,
   "id": "883143a6",
   "metadata": {},
   "outputs": [],
   "source": [
    "data1 = data[:-250]\n",
    "data2 = data[-250:]"
   ]
  },
  {
   "cell_type": "code",
   "execution_count": 65,
   "id": "4f8dcda3",
   "metadata": {},
   "outputs": [
    {
     "name": "stderr",
     "output_type": "stream",
     "text": [
      "/Users/apple/opt/anaconda3/lib/python3.8/site-packages/statsmodels/tsa/base/tsa_model.py:473: ValueWarning: An unsupported index was provided and will be ignored when e.g. forecasting.\n",
      "  self._init_dates(dates, freq)\n",
      "/Users/apple/opt/anaconda3/lib/python3.8/site-packages/statsmodels/tsa/base/tsa_model.py:473: ValueWarning: An unsupported index was provided and will be ignored when e.g. forecasting.\n",
      "  self._init_dates(dates, freq)\n",
      "/Users/apple/opt/anaconda3/lib/python3.8/site-packages/statsmodels/tsa/base/tsa_model.py:473: ValueWarning: An unsupported index was provided and will be ignored when e.g. forecasting.\n",
      "  self._init_dates(dates, freq)\n",
      "/Users/apple/opt/anaconda3/lib/python3.8/site-packages/statsmodels/tsa/statespace/sarimax.py:966: UserWarning: Non-stationary starting autoregressive parameters found. Using zeros as starting parameters.\n",
      "  warn('Non-stationary starting autoregressive parameters'\n",
      "/Users/apple/opt/anaconda3/lib/python3.8/site-packages/statsmodels/tsa/statespace/sarimax.py:978: UserWarning: Non-invertible starting MA parameters found. Using zeros as starting parameters.\n",
      "  warn('Non-invertible starting MA parameters found.'\n",
      "/Users/apple/opt/anaconda3/lib/python3.8/site-packages/arch/univariate/base.py:310: DataScaleWarning: y is poorly scaled, which may affect convergence of the optimizer when\n",
      "estimating the model parameters. The scale of y is 0.0009269. Parameter\n",
      "estimation work better when this value is between 1 and 1000. The recommended\n",
      "rescaling is 100 * y.\n",
      "\n",
      "This warning can be disabled by either rescaling y before initializing the\n",
      "model or by setting rescale=False.\n",
      "\n",
      "  warnings.warn(\n"
     ]
    },
    {
     "name": "stdout",
     "output_type": "stream",
     "text": [
      "Iteration:      1,   Func. Count:      7,   Neg. LLF: 144999.37692485086\n",
      "Iteration:      2,   Func. Count:     23,   Neg. LLF: 118765.03695796026\n",
      "Iteration:      3,   Func. Count:     39,   Neg. LLF: -198.25957472197751\n",
      "Iteration:      4,   Func. Count:     45,   Neg. LLF: 950.2596995153923\n",
      "Iteration:      5,   Func. Count:     52,   Neg. LLF: 2017.4218028219234\n",
      "Iteration:      6,   Func. Count:     59,   Neg. LLF: 671119.4067272344\n",
      "Iteration:      7,   Func. Count:     66,   Neg. LLF: -2093.5160424201313\n",
      "Iteration:      8,   Func. Count:     72,   Neg. LLF: 1931854.1718900474\n",
      "Iteration:      9,   Func. Count:     79,   Neg. LLF: 2444298.0384222143\n",
      "Iteration:     10,   Func. Count:     86,   Neg. LLF: 2676065.4970994955\n",
      "Iteration:     11,   Func. Count:    102,   Neg. LLF: 296380.71055582026\n",
      "Iteration:     12,   Func. Count:    113,   Neg. LLF: -2190.0186845809403\n",
      "Optimization terminated successfully    (Exit mode 0)\n",
      "            Current function value: -2190.018684581312\n",
      "            Iterations: 16\n",
      "            Function evaluations: 113\n",
      "            Gradient evaluations: 12\n"
     ]
    },
    {
     "name": "stderr",
     "output_type": "stream",
     "text": [
      "/Users/apple/opt/anaconda3/lib/python3.8/site-packages/arch/__future__/_utility.py:11: FutureWarning: \n",
      "The default for reindex is True. After September 2021 this will change to\n",
      "False. Set reindex to True or False to silence this message. Alternatively,\n",
      "you can use the import comment\n",
      "\n",
      "from arch.__future__ import reindexing\n",
      "\n",
      "to globally set reindex to True and silence this warning.\n",
      "\n",
      "  warnings.warn(\n"
     ]
    },
    {
     "data": {
      "image/png": "[encoded data removed]",
      "text/plain": [
       "<Figure size 432x288 with 1 Axes>"
      ]
     },
     "metadata": {
      "needs_background": "light"
     },
     "output_type": "display_data"
    }
   ],
   "source": [
    "# 计算日收益率\n",
    "returns = data1.pct_change().dropna()\n",
    "\n",
    "# 拟合ARIMA模型（示例中为ARIMA(1,0,1)，你可以根据实际情况调整）\n",
    "arma_order = (1, 0, 1)\n",
    "arma_model = ARIMA(returns, order=arma_order)\n",
    "arma_results = arma_model.fit()\n",
    "\n",
    "# 提取ARMA模型的残差\n",
    "residuals = arma_results.resid\n",
    "\n",
    "# 拟合t-GARCH模型（示例中为GARCH(1,1)，你可以根据实际情况调整）\n",
    "t_garch_order = (1, 1)\n",
    "t_garch_model = arch_model(residuals, vol='Garch', p=t_garch_order[0], q=t_garch_order[1], dist='t')\n",
    "t_garch_results = t_garch_model.fit()\n",
    "\n",
    "# 预测未来一年的波动率\n",
    "forecast_horizon = 250  # 一年大致有252个交易日\n",
    "t_forecasts = t_garch_results.forecast(horizon=forecast_horizon)\n",
    "\n",
    "# 提取预测的波动率\n",
    "t_volatility_forecast = np.sqrt(t_forecasts.variance.dropna().iloc[0])\n",
    "\n",
    "return2 = data2.pct_change().dropna()\n",
    "# 计算实际波动率（使用平方收益率）\n",
    "actual_volatility = return2**2\n",
    "\n",
    "# 绘制波动率预测图\n",
    "plt.plot(range(len(t_volatility_forecast)),t_volatility_forecast, label='t-GARCH Forecasted Volatility')\n",
    "plt.plot(range(len(actual_volatility)),actual_volatility, label='Actual Volatility (Squared Returns)')\n",
    "plt.legend()\n",
    "plt.title('t-GARCH Volatility Forecast vs Actual Volatility')\n",
    "plt.show()"
   ]
  },
  {
   "cell_type": "code",
   "execution_count": 66,
   "id": "d40e33b6",
   "metadata": {},
   "outputs": [
    {
     "data": {
      "text/plain": [
       "                        Constant Mean - GARCH Model Results                         \n",
       "====================================================================================\n",
       "Dep. Variable:                         None   R-squared:                       0.000\n",
       "Mean Model:                   Constant Mean   Adj. R-squared:                  0.000\n",
       "Vol Model:                            GARCH   Log-Likelihood:                2190.02\n",
       "Distribution:      Standardized Student's t   AIC:                          -4370.04\n",
       "Method:                  Maximum Likelihood   BIC:                          -4344.39\n",
       "                                              No. Observations:                 1249\n",
       "Date:                      Fri, Jan 05 2024   Df Residuals:                     1248\n",
       "Time:                              12:37:55   Df Model:                            1\n",
       "                                  Mean Model                                  \n",
       "==============================================================================\n",
       "                  coef    std err          t      P>|t|       95.0% Conf. Int.\n",
       "------------------------------------------------------------------------------\n",
       "mu         -1.5608e-04  7.704e-04     -0.203      0.839 [-1.666e-03,1.354e-03]\n",
       "                               Volatility Model                              \n",
       "=============================================================================\n",
       "                 coef    std err          t      P>|t|       95.0% Conf. Int.\n",
       "-----------------------------------------------------------------------------\n",
       "omega      3.6144e-03  1.210e-04     29.878 3.795e-196  [3.377e-03,3.851e-03]\n",
       "alpha[1]       0.1643      0.125      1.311      0.190   [-8.126e-02,  0.410]\n",
       "beta[1]    2.7441e-09  1.775e-02  1.546e-07      1.000 [-3.479e-02,3.479e-02]\n",
       "                                Distribution                                \n",
       "============================================================================\n",
       "                 coef    std err          t      P>|t|      95.0% Conf. Int.\n",
       "----------------------------------------------------------------------------\n",
       "nu           137.6878      1.995     69.022      0.000 [1.338e+02,1.416e+02]\n",
       "============================================================================\n",
       "\n",
       "Covariance estimator: robust\n",
       "ARCHModelResult, id: 0x7fd2e96f9850"
      ]
     },
     "execution_count": 66,
     "metadata": {},
     "output_type": "execute_result"
    }
   ],
   "source": [
    "t_garch_results"
   ]
  },
  {
   "cell_type": "code",
   "execution_count": 68,
   "id": "547fa315",
   "metadata": {},
   "outputs": [
    {
     "name": "stdout",
     "output_type": "stream",
     "text": [
      "均方误差 (MSE): 0.004286400260347794\n"
     ]
    }
   ],
   "source": [
    "# 计算MSE\n",
    "mse = mean_squared_error(t_volatility_forecast[1:], actual_volatility)\n",
    "\n",
    "# 打印MSE\n",
    "print(\"均方误差 (MSE):\", mse)"
   ]
  },
  {
   "cell_type": "markdown",
   "id": "1c2f0832",
   "metadata": {},
   "source": [
    "前面模型MSE为0.00029388083768364326，这里模型MSE为0.004286400260347794，并没有提升模型效果"
   ]
  },
  {
   "cell_type": "markdown",
   "id": "9440a519",
   "metadata": {},
   "source": [
    "## 4. ﻿﻿﻿请建立该股票价格与其所属行业版块的指数、大盘指数的多元自回归方程，检验三个变量间的协整关系，建立 VAR 或 VECM 模型，报告回归结果以及分析脉冲响应结果。"
   ]
  },
  {
   "cell_type": "code",
   "execution_count": 69,
   "id": "7aab5e07",
   "metadata": {},
   "outputs": [
    {
     "data": {
      "text/html": [
       "<div>\n",
       "<style scoped>\n",
       "    .dataframe tbody tr th:only-of-type {\n",
       "        vertical-align: middle;\n",
       "    }\n",
       "\n",
       "    .dataframe tbody tr th {\n",
       "        vertical-align: top;\n",
       "    }\n",
       "\n",
       "    .dataframe thead th {\n",
       "        text-align: right;\n",
       "    }\n",
       "</style>\n",
       "<table border=\"1\" class=\"dataframe\">\n",
       "  <thead>\n",
       "    <tr style=\"text-align: right;\">\n",
       "      <th></th>\n",
       "      <th>股票名称</th>\n",
       "      <th>股票代码</th>\n",
       "      <th>日期</th>\n",
       "      <th>开盘</th>\n",
       "      <th>收盘</th>\n",
       "      <th>最高</th>\n",
       "      <th>最低</th>\n",
       "      <th>成交量</th>\n",
       "      <th>成交额</th>\n",
       "      <th>振幅</th>\n",
       "      <th>涨跌幅</th>\n",
       "      <th>涨跌额</th>\n",
       "      <th>换手率</th>\n",
       "    </tr>\n",
       "  </thead>\n",
       "  <tbody>\n",
       "    <tr>\n",
       "      <th>0</th>\n",
       "      <td>汽车指数</td>\n",
       "      <td>931008</td>\n",
       "      <td>2017-08-03</td>\n",
       "      <td>6930.38</td>\n",
       "      <td>6901.84</td>\n",
       "      <td>6949.91</td>\n",
       "      <td>6882.22</td>\n",
       "      <td>52821</td>\n",
       "      <td>4.945461e+09</td>\n",
       "      <td>0.00</td>\n",
       "      <td>0.00</td>\n",
       "      <td>0.00</td>\n",
       "      <td>0.0</td>\n",
       "    </tr>\n",
       "    <tr>\n",
       "      <th>1</th>\n",
       "      <td>汽车指数</td>\n",
       "      <td>931008</td>\n",
       "      <td>2017-08-04</td>\n",
       "      <td>6890.32</td>\n",
       "      <td>6906.09</td>\n",
       "      <td>6919.47</td>\n",
       "      <td>6852.72</td>\n",
       "      <td>56985</td>\n",
       "      <td>4.543806e+09</td>\n",
       "      <td>0.97</td>\n",
       "      <td>0.06</td>\n",
       "      <td>4.25</td>\n",
       "      <td>0.0</td>\n",
       "    </tr>\n",
       "    <tr>\n",
       "      <th>2</th>\n",
       "      <td>汽车指数</td>\n",
       "      <td>931008</td>\n",
       "      <td>2017-08-07</td>\n",
       "      <td>6883.47</td>\n",
       "      <td>6925.15</td>\n",
       "      <td>6931.64</td>\n",
       "      <td>6862.85</td>\n",
       "      <td>46754</td>\n",
       "      <td>3.428363e+09</td>\n",
       "      <td>1.00</td>\n",
       "      <td>0.28</td>\n",
       "      <td>19.06</td>\n",
       "      <td>0.0</td>\n",
       "    </tr>\n",
       "    <tr>\n",
       "      <th>3</th>\n",
       "      <td>汽车指数</td>\n",
       "      <td>931008</td>\n",
       "      <td>2017-08-08</td>\n",
       "      <td>6928.23</td>\n",
       "      <td>6908.26</td>\n",
       "      <td>6938.45</td>\n",
       "      <td>6889.78</td>\n",
       "      <td>49753</td>\n",
       "      <td>3.970812e+09</td>\n",
       "      <td>0.70</td>\n",
       "      <td>-0.24</td>\n",
       "      <td>-16.89</td>\n",
       "      <td>0.0</td>\n",
       "    </tr>\n",
       "    <tr>\n",
       "      <th>4</th>\n",
       "      <td>汽车指数</td>\n",
       "      <td>931008</td>\n",
       "      <td>2017-08-09</td>\n",
       "      <td>6907.29</td>\n",
       "      <td>6930.37</td>\n",
       "      <td>6945.43</td>\n",
       "      <td>6887.57</td>\n",
       "      <td>51872</td>\n",
       "      <td>4.265782e+09</td>\n",
       "      <td>0.84</td>\n",
       "      <td>0.32</td>\n",
       "      <td>22.11</td>\n",
       "      <td>0.0</td>\n",
       "    </tr>\n",
       "    <tr>\n",
       "      <th>...</th>\n",
       "      <td>...</td>\n",
       "      <td>...</td>\n",
       "      <td>...</td>\n",
       "      <td>...</td>\n",
       "      <td>...</td>\n",
       "      <td>...</td>\n",
       "      <td>...</td>\n",
       "      <td>...</td>\n",
       "      <td>...</td>\n",
       "      <td>...</td>\n",
       "      <td>...</td>\n",
       "      <td>...</td>\n",
       "      <td>...</td>\n",
       "    </tr>\n",
       "    <tr>\n",
       "      <th>1558</th>\n",
       "      <td>汽车指数</td>\n",
       "      <td>931008</td>\n",
       "      <td>2023-12-29</td>\n",
       "      <td>8596.11</td>\n",
       "      <td>8685.94</td>\n",
       "      <td>8699.79</td>\n",
       "      <td>8582.28</td>\n",
       "      <td>12001004</td>\n",
       "      <td>2.192875e+10</td>\n",
       "      <td>1.37</td>\n",
       "      <td>1.15</td>\n",
       "      <td>98.70</td>\n",
       "      <td>0.0</td>\n",
       "    </tr>\n",
       "    <tr>\n",
       "      <th>1559</th>\n",
       "      <td>汽车指数</td>\n",
       "      <td>931008</td>\n",
       "      <td>2024-01-02</td>\n",
       "      <td>8714.82</td>\n",
       "      <td>8518.43</td>\n",
       "      <td>8743.97</td>\n",
       "      <td>8518.41</td>\n",
       "      <td>10575823</td>\n",
       "      <td>2.069044e+10</td>\n",
       "      <td>2.60</td>\n",
       "      <td>-1.93</td>\n",
       "      <td>-167.51</td>\n",
       "      <td>0.0</td>\n",
       "    </tr>\n",
       "    <tr>\n",
       "      <th>1560</th>\n",
       "      <td>汽车指数</td>\n",
       "      <td>931008</td>\n",
       "      <td>2024-01-03</td>\n",
       "      <td>8482.60</td>\n",
       "      <td>8460.79</td>\n",
       "      <td>8536.74</td>\n",
       "      <td>8409.20</td>\n",
       "      <td>9913725</td>\n",
       "      <td>1.860164e+10</td>\n",
       "      <td>1.50</td>\n",
       "      <td>-0.68</td>\n",
       "      <td>-57.64</td>\n",
       "      <td>0.0</td>\n",
       "    </tr>\n",
       "    <tr>\n",
       "      <th>1561</th>\n",
       "      <td>汽车指数</td>\n",
       "      <td>931008</td>\n",
       "      <td>2024-01-04</td>\n",
       "      <td>8461.72</td>\n",
       "      <td>8325.62</td>\n",
       "      <td>8470.19</td>\n",
       "      <td>8316.47</td>\n",
       "      <td>8801024</td>\n",
       "      <td>1.711339e+10</td>\n",
       "      <td>1.82</td>\n",
       "      <td>-1.60</td>\n",
       "      <td>-135.17</td>\n",
       "      <td>0.0</td>\n",
       "    </tr>\n",
       "    <tr>\n",
       "      <th>1562</th>\n",
       "      <td>汽车指数</td>\n",
       "      <td>931008</td>\n",
       "      <td>2024-01-05</td>\n",
       "      <td>8346.10</td>\n",
       "      <td>8329.96</td>\n",
       "      <td>8417.75</td>\n",
       "      <td>8323.71</td>\n",
       "      <td>5562978</td>\n",
       "      <td>1.045777e+10</td>\n",
       "      <td>1.13</td>\n",
       "      <td>0.05</td>\n",
       "      <td>4.34</td>\n",
       "      <td>0.0</td>\n",
       "    </tr>\n",
       "  </tbody>\n",
       "</table>\n",
       "<p>1563 rows × 13 columns</p>\n",
       "</div>"
      ],
      "text/plain": [
       "      股票名称    股票代码          日期       开盘       收盘       最高       最低       成交量  \\\n",
       "0     汽车指数  931008  2017-08-03  6930.38  6901.84  6949.91  6882.22     52821   \n",
       "1     汽车指数  931008  2017-08-04  6890.32  6906.09  6919.47  6852.72     56985   \n",
       "2     汽车指数  931008  2017-08-07  6883.47  6925.15  6931.64  6862.85     46754   \n",
       "3     汽车指数  931008  2017-08-08  6928.23  6908.26  6938.45  6889.78     49753   \n",
       "4     汽车指数  931008  2017-08-09  6907.29  6930.37  6945.43  6887.57     51872   \n",
       "...    ...     ...         ...      ...      ...      ...      ...       ...   \n",
       "1558  汽车指数  931008  2023-12-29  8596.11  8685.94  8699.79  8582.28  12001004   \n",
       "1559  汽车指数  931008  2024-01-02  8714.82  8518.43  8743.97  8518.41  10575823   \n",
       "1560  汽车指数  931008  2024-01-03  8482.60  8460.79  8536.74  8409.20   9913725   \n",
       "1561  汽车指数  931008  2024-01-04  8461.72  8325.62  8470.19  8316.47   8801024   \n",
       "1562  汽车指数  931008  2024-01-05  8346.10  8329.96  8417.75  8323.71   5562978   \n",
       "\n",
       "               成交额    振幅   涨跌幅     涨跌额  换手率  \n",
       "0     4.945461e+09  0.00  0.00    0.00  0.0  \n",
       "1     4.543806e+09  0.97  0.06    4.25  0.0  \n",
       "2     3.428363e+09  1.00  0.28   19.06  0.0  \n",
       "3     3.970812e+09  0.70 -0.24  -16.89  0.0  \n",
       "4     4.265782e+09  0.84  0.32   22.11  0.0  \n",
       "...            ...   ...   ...     ...  ...  \n",
       "1558  2.192875e+10  1.37  1.15   98.70  0.0  \n",
       "1559  2.069044e+10  2.60 -1.93 -167.51  0.0  \n",
       "1560  1.860164e+10  1.50 -0.68  -57.64  0.0  \n",
       "1561  1.711339e+10  1.82 -1.60 -135.17  0.0  \n",
       "1562  1.045777e+10  1.13  0.05    4.34  0.0  \n",
       "\n",
       "[1563 rows x 13 columns]"
      ]
     },
     "execution_count": 69,
     "metadata": {},
     "output_type": "execute_result"
    }
   ],
   "source": [
    "stock_code = '931008'\n",
    "df2 = ef.stock.get_quote_history(stock_code)\n",
    "df2"
   ]
  },
  {
   "cell_type": "code",
   "execution_count": 70,
   "id": "20cecbaa",
   "metadata": {},
   "outputs": [],
   "source": [
    "industry_index = df2['收盘'][-1500:].tolist()"
   ]
  },
  {
   "cell_type": "code",
   "execution_count": 71,
   "id": "a11dfc6e",
   "metadata": {},
   "outputs": [
    {
     "data": {
      "text/html": [
       "<div>\n",
       "<style scoped>\n",
       "    .dataframe tbody tr th:only-of-type {\n",
       "        vertical-align: middle;\n",
       "    }\n",
       "\n",
       "    .dataframe tbody tr th {\n",
       "        vertical-align: top;\n",
       "    }\n",
       "\n",
       "    .dataframe thead th {\n",
       "        text-align: right;\n",
       "    }\n",
       "</style>\n",
       "<table border=\"1\" class=\"dataframe\">\n",
       "  <thead>\n",
       "    <tr style=\"text-align: right;\">\n",
       "      <th></th>\n",
       "      <th>股票名称</th>\n",
       "      <th>股票代码</th>\n",
       "      <th>日期</th>\n",
       "      <th>开盘</th>\n",
       "      <th>收盘</th>\n",
       "      <th>最高</th>\n",
       "      <th>最低</th>\n",
       "      <th>成交量</th>\n",
       "      <th>成交额</th>\n",
       "      <th>振幅</th>\n",
       "      <th>涨跌幅</th>\n",
       "      <th>涨跌额</th>\n",
       "      <th>换手率</th>\n",
       "    </tr>\n",
       "  </thead>\n",
       "  <tbody>\n",
       "    <tr>\n",
       "      <th>0</th>\n",
       "      <td>深证成指</td>\n",
       "      <td>399001</td>\n",
       "      <td>1991-04-03</td>\n",
       "      <td>988.05</td>\n",
       "      <td>988.05</td>\n",
       "      <td>988.05</td>\n",
       "      <td>988.05</td>\n",
       "      <td>1</td>\n",
       "      <td>1.000000e+04</td>\n",
       "      <td>0.00</td>\n",
       "      <td>0.00</td>\n",
       "      <td>0.00</td>\n",
       "      <td>0.00</td>\n",
       "    </tr>\n",
       "    <tr>\n",
       "      <th>1</th>\n",
       "      <td>深证成指</td>\n",
       "      <td>399001</td>\n",
       "      <td>1991-04-04</td>\n",
       "      <td>983.11</td>\n",
       "      <td>983.11</td>\n",
       "      <td>983.11</td>\n",
       "      <td>983.11</td>\n",
       "      <td>523</td>\n",
       "      <td>7.610000e+05</td>\n",
       "      <td>0.00</td>\n",
       "      <td>-0.50</td>\n",
       "      <td>-4.94</td>\n",
       "      <td>0.00</td>\n",
       "    </tr>\n",
       "    <tr>\n",
       "      <th>2</th>\n",
       "      <td>深证成指</td>\n",
       "      <td>399001</td>\n",
       "      <td>1991-04-05</td>\n",
       "      <td>978.27</td>\n",
       "      <td>978.27</td>\n",
       "      <td>978.27</td>\n",
       "      <td>978.27</td>\n",
       "      <td>107</td>\n",
       "      <td>1.500000e+05</td>\n",
       "      <td>0.00</td>\n",
       "      <td>-0.49</td>\n",
       "      <td>-4.84</td>\n",
       "      <td>0.00</td>\n",
       "    </tr>\n",
       "    <tr>\n",
       "      <th>3</th>\n",
       "      <td>深证成指</td>\n",
       "      <td>399001</td>\n",
       "      <td>1991-04-06</td>\n",
       "      <td>973.42</td>\n",
       "      <td>973.42</td>\n",
       "      <td>973.42</td>\n",
       "      <td>973.42</td>\n",
       "      <td>102</td>\n",
       "      <td>1.590000e+05</td>\n",
       "      <td>0.00</td>\n",
       "      <td>-0.50</td>\n",
       "      <td>-4.85</td>\n",
       "      <td>0.00</td>\n",
       "    </tr>\n",
       "    <tr>\n",
       "      <th>4</th>\n",
       "      <td>深证成指</td>\n",
       "      <td>399001</td>\n",
       "      <td>1991-04-08</td>\n",
       "      <td>968.57</td>\n",
       "      <td>968.57</td>\n",
       "      <td>968.57</td>\n",
       "      <td>968.57</td>\n",
       "      <td>57</td>\n",
       "      <td>8.400000e+04</td>\n",
       "      <td>0.00</td>\n",
       "      <td>-0.50</td>\n",
       "      <td>-4.85</td>\n",
       "      <td>0.00</td>\n",
       "    </tr>\n",
       "    <tr>\n",
       "      <th>...</th>\n",
       "      <td>...</td>\n",
       "      <td>...</td>\n",
       "      <td>...</td>\n",
       "      <td>...</td>\n",
       "      <td>...</td>\n",
       "      <td>...</td>\n",
       "      <td>...</td>\n",
       "      <td>...</td>\n",
       "      <td>...</td>\n",
       "      <td>...</td>\n",
       "      <td>...</td>\n",
       "      <td>...</td>\n",
       "      <td>...</td>\n",
       "    </tr>\n",
       "    <tr>\n",
       "      <th>8022</th>\n",
       "      <td>深证成指</td>\n",
       "      <td>399001</td>\n",
       "      <td>2023-12-29</td>\n",
       "      <td>9434.58</td>\n",
       "      <td>9524.69</td>\n",
       "      <td>9534.68</td>\n",
       "      <td>9427.92</td>\n",
       "      <td>394147518</td>\n",
       "      <td>4.736089e+11</td>\n",
       "      <td>1.13</td>\n",
       "      <td>0.89</td>\n",
       "      <td>83.64</td>\n",
       "      <td>1.72</td>\n",
       "    </tr>\n",
       "    <tr>\n",
       "      <th>8023</th>\n",
       "      <td>深证成指</td>\n",
       "      <td>399001</td>\n",
       "      <td>2024-01-02</td>\n",
       "      <td>9527.11</td>\n",
       "      <td>9401.35</td>\n",
       "      <td>9527.11</td>\n",
       "      <td>9401.35</td>\n",
       "      <td>385969543</td>\n",
       "      <td>4.418264e+11</td>\n",
       "      <td>1.32</td>\n",
       "      <td>-1.29</td>\n",
       "      <td>-123.34</td>\n",
       "      <td>1.68</td>\n",
       "    </tr>\n",
       "    <tr>\n",
       "      <th>8024</th>\n",
       "      <td>深证成指</td>\n",
       "      <td>399001</td>\n",
       "      <td>2024-01-03</td>\n",
       "      <td>9378.69</td>\n",
       "      <td>9330.86</td>\n",
       "      <td>9405.09</td>\n",
       "      <td>9280.82</td>\n",
       "      <td>366813901</td>\n",
       "      <td>4.164527e+11</td>\n",
       "      <td>1.32</td>\n",
       "      <td>-0.75</td>\n",
       "      <td>-70.49</td>\n",
       "      <td>1.60</td>\n",
       "    </tr>\n",
       "    <tr>\n",
       "      <th>8025</th>\n",
       "      <td>深证成指</td>\n",
       "      <td>399001</td>\n",
       "      <td>2024-01-04</td>\n",
       "      <td>9317.40</td>\n",
       "      <td>9215.25</td>\n",
       "      <td>9317.40</td>\n",
       "      <td>9171.13</td>\n",
       "      <td>330572265</td>\n",
       "      <td>3.771404e+11</td>\n",
       "      <td>1.57</td>\n",
       "      <td>-1.24</td>\n",
       "      <td>-115.61</td>\n",
       "      <td>1.44</td>\n",
       "    </tr>\n",
       "    <tr>\n",
       "      <th>8026</th>\n",
       "      <td>深证成指</td>\n",
       "      <td>399001</td>\n",
       "      <td>2024-01-05</td>\n",
       "      <td>9205.39</td>\n",
       "      <td>9193.18</td>\n",
       "      <td>9275.23</td>\n",
       "      <td>9161.17</td>\n",
       "      <td>216638860</td>\n",
       "      <td>2.472487e+11</td>\n",
       "      <td>1.24</td>\n",
       "      <td>-0.24</td>\n",
       "      <td>-22.07</td>\n",
       "      <td>0.95</td>\n",
       "    </tr>\n",
       "  </tbody>\n",
       "</table>\n",
       "<p>8027 rows × 13 columns</p>\n",
       "</div>"
      ],
      "text/plain": [
       "      股票名称    股票代码          日期       开盘       收盘       最高       最低        成交量  \\\n",
       "0     深证成指  399001  1991-04-03   988.05   988.05   988.05   988.05          1   \n",
       "1     深证成指  399001  1991-04-04   983.11   983.11   983.11   983.11        523   \n",
       "2     深证成指  399001  1991-04-05   978.27   978.27   978.27   978.27        107   \n",
       "3     深证成指  399001  1991-04-06   973.42   973.42   973.42   973.42        102   \n",
       "4     深证成指  399001  1991-04-08   968.57   968.57   968.57   968.57         57   \n",
       "...    ...     ...         ...      ...      ...      ...      ...        ...   \n",
       "8022  深证成指  399001  2023-12-29  9434.58  9524.69  9534.68  9427.92  394147518   \n",
       "8023  深证成指  399001  2024-01-02  9527.11  9401.35  9527.11  9401.35  385969543   \n",
       "8024  深证成指  399001  2024-01-03  9378.69  9330.86  9405.09  9280.82  366813901   \n",
       "8025  深证成指  399001  2024-01-04  9317.40  9215.25  9317.40  9171.13  330572265   \n",
       "8026  深证成指  399001  2024-01-05  9205.39  9193.18  9275.23  9161.17  216638860   \n",
       "\n",
       "               成交额    振幅   涨跌幅     涨跌额   换手率  \n",
       "0     1.000000e+04  0.00  0.00    0.00  0.00  \n",
       "1     7.610000e+05  0.00 -0.50   -4.94  0.00  \n",
       "2     1.500000e+05  0.00 -0.49   -4.84  0.00  \n",
       "3     1.590000e+05  0.00 -0.50   -4.85  0.00  \n",
       "4     8.400000e+04  0.00 -0.50   -4.85  0.00  \n",
       "...            ...   ...   ...     ...   ...  \n",
       "8022  4.736089e+11  1.13  0.89   83.64  1.72  \n",
       "8023  4.418264e+11  1.32 -1.29 -123.34  1.68  \n",
       "8024  4.164527e+11  1.32 -0.75  -70.49  1.60  \n",
       "8025  3.771404e+11  1.57 -1.24 -115.61  1.44  \n",
       "8026  2.472487e+11  1.24 -0.24  -22.07  0.95  \n",
       "\n",
       "[8027 rows x 13 columns]"
      ]
     },
     "execution_count": 71,
     "metadata": {},
     "output_type": "execute_result"
    }
   ],
   "source": [
    "stock_code = '399001'\n",
    "df3 = ef.stock.get_quote_history(stock_code)\n",
    "df3"
   ]
  },
  {
   "cell_type": "code",
   "execution_count": 73,
   "id": "bf04b140",
   "metadata": {},
   "outputs": [],
   "source": [
    "market_index = df3['收盘'][-1500:].tolist()"
   ]
  },
  {
   "cell_type": "code",
   "execution_count": 74,
   "id": "c4559798",
   "metadata": {},
   "outputs": [],
   "source": [
    "stock_prices = df['收盘'][-1500:].tolist()"
   ]
  },
  {
   "cell_type": "code",
   "execution_count": 75,
   "id": "d61ce91b",
   "metadata": {},
   "outputs": [],
   "source": [
    "dates = df['日期'][-1500:].tolist()"
   ]
  },
  {
   "cell_type": "code",
   "execution_count": 76,
   "id": "a7a3fe42",
   "metadata": {},
   "outputs": [],
   "source": [
    "# 创建DataFrame\n",
    "data = pd.DataFrame({\n",
    "    'Stock_Price': stock_prices,\n",
    "    'Industry_Index': industry_index,\n",
    "    'Market_Index': market_index\n",
    "}, index=dates)"
   ]
  },
  {
   "cell_type": "code",
   "execution_count": 77,
   "id": "4ec997d8",
   "metadata": {},
   "outputs": [
    {
     "data": {
      "text/html": [
       "<div>\n",
       "<style scoped>\n",
       "    .dataframe tbody tr th:only-of-type {\n",
       "        vertical-align: middle;\n",
       "    }\n",
       "\n",
       "    .dataframe tbody tr th {\n",
       "        vertical-align: top;\n",
       "    }\n",
       "\n",
       "    .dataframe thead th {\n",
       "        text-align: right;\n",
       "    }\n",
       "</style>\n",
       "<table border=\"1\" class=\"dataframe\">\n",
       "  <thead>\n",
       "    <tr style=\"text-align: right;\">\n",
       "      <th></th>\n",
       "      <th>Stock_Price</th>\n",
       "      <th>Industry_Index</th>\n",
       "      <th>Market_Index</th>\n",
       "    </tr>\n",
       "  </thead>\n",
       "  <tbody>\n",
       "    <tr>\n",
       "      <th>2017-11-07</th>\n",
       "      <td>63.72</td>\n",
       "      <td>7375.35</td>\n",
       "      <td>11467.97</td>\n",
       "    </tr>\n",
       "    <tr>\n",
       "      <th>2017-11-08</th>\n",
       "      <td>65.57</td>\n",
       "      <td>7447.04</td>\n",
       "      <td>11447.40</td>\n",
       "    </tr>\n",
       "    <tr>\n",
       "      <th>2017-11-09</th>\n",
       "      <td>66.19</td>\n",
       "      <td>7521.37</td>\n",
       "      <td>11553.24</td>\n",
       "    </tr>\n",
       "    <tr>\n",
       "      <th>2017-11-10</th>\n",
       "      <td>65.85</td>\n",
       "      <td>7536.73</td>\n",
       "      <td>11645.05</td>\n",
       "    </tr>\n",
       "    <tr>\n",
       "      <th>2017-11-13</th>\n",
       "      <td>68.30</td>\n",
       "      <td>7561.28</td>\n",
       "      <td>11695.00</td>\n",
       "    </tr>\n",
       "    <tr>\n",
       "      <th>...</th>\n",
       "      <td>...</td>\n",
       "      <td>...</td>\n",
       "      <td>...</td>\n",
       "    </tr>\n",
       "    <tr>\n",
       "      <th>2023-12-29</th>\n",
       "      <td>198.00</td>\n",
       "      <td>8685.94</td>\n",
       "      <td>9524.69</td>\n",
       "    </tr>\n",
       "    <tr>\n",
       "      <th>2024-01-02</th>\n",
       "      <td>192.60</td>\n",
       "      <td>8518.43</td>\n",
       "      <td>9401.35</td>\n",
       "    </tr>\n",
       "    <tr>\n",
       "      <th>2024-01-03</th>\n",
       "      <td>193.17</td>\n",
       "      <td>8460.79</td>\n",
       "      <td>9330.86</td>\n",
       "    </tr>\n",
       "    <tr>\n",
       "      <th>2024-01-04</th>\n",
       "      <td>193.02</td>\n",
       "      <td>8325.62</td>\n",
       "      <td>9215.25</td>\n",
       "    </tr>\n",
       "    <tr>\n",
       "      <th>2024-01-05</th>\n",
       "      <td>194.83</td>\n",
       "      <td>8329.96</td>\n",
       "      <td>9193.18</td>\n",
       "    </tr>\n",
       "  </tbody>\n",
       "</table>\n",
       "<p>1500 rows × 3 columns</p>\n",
       "</div>"
      ],
      "text/plain": [
       "            Stock_Price  Industry_Index  Market_Index\n",
       "2017-11-07        63.72         7375.35      11467.97\n",
       "2017-11-08        65.57         7447.04      11447.40\n",
       "2017-11-09        66.19         7521.37      11553.24\n",
       "2017-11-10        65.85         7536.73      11645.05\n",
       "2017-11-13        68.30         7561.28      11695.00\n",
       "...                 ...             ...           ...\n",
       "2023-12-29       198.00         8685.94       9524.69\n",
       "2024-01-02       192.60         8518.43       9401.35\n",
       "2024-01-03       193.17         8460.79       9330.86\n",
       "2024-01-04       193.02         8325.62       9215.25\n",
       "2024-01-05       194.83         8329.96       9193.18\n",
       "\n",
       "[1500 rows x 3 columns]"
      ]
     },
     "execution_count": 77,
     "metadata": {},
     "output_type": "execute_result"
    }
   ],
   "source": [
    "data"
   ]
  },
  {
   "cell_type": "code",
   "execution_count": 78,
   "id": "bf8556dd",
   "metadata": {},
   "outputs": [
    {
     "name": "stdout",
     "output_type": "stream",
     "text": [
      "协整关系检验结果：\n",
      "[[18.8928 21.1314 25.865 ]\n",
      " [12.2971 14.2639 18.52  ]\n",
      " [ 2.7055  3.8415  6.6349]]\n",
      "[15.59062405  6.75852545  2.71884765]\n"
     ]
    }
   ],
   "source": [
    "from statsmodels.tsa.vector_ar.vecm import coint_johansen\n",
    "\n",
    "# 检验协整关系\n",
    "coint_test_result = coint_johansen(data, det_order=0, k_ar_diff=1)\n",
    "print(\"协整关系检验结果：\")\n",
    "print(coint_test_result.cvm)\n",
    "print(coint_test_result.lr1)"
   ]
  },
  {
   "cell_type": "markdown",
   "id": "47931eab",
   "metadata": {},
   "source": [
    "存在协整关系"
   ]
  },
  {
   "cell_type": "code",
   "execution_count": 79,
   "id": "6c6306ca",
   "metadata": {},
   "outputs": [],
   "source": [
    "# 根据协整检验结果确定最佳阶数\n",
    "rank = coint_test_result.ind"
   ]
  },
  {
   "cell_type": "code",
   "execution_count": 80,
   "id": "7d136e6e",
   "metadata": {},
   "outputs": [
    {
     "data": {
      "text/plain": [
       "array([0, 1, 2])"
      ]
     },
     "execution_count": 80,
     "metadata": {},
     "output_type": "execute_result"
    }
   ],
   "source": [
    "rank "
   ]
  },
  {
   "cell_type": "markdown",
   "id": "8466d245",
   "metadata": {},
   "source": [
    "由于 [0, 1, 2] 中最小的值是0，可能表示你的数据在阶数为0时具有最强的协整关系。"
   ]
  },
  {
   "cell_type": "code",
   "execution_count": 86,
   "id": "787eba33",
   "metadata": {},
   "outputs": [
    {
     "name": "stdout",
     "output_type": "stream",
     "text": [
      "VAR模型结果：\n",
      "  Summary of Regression Results   \n",
      "==================================\n",
      "Model:                         VAR\n",
      "Method:                        OLS\n",
      "Date:           Fri, 05, Jan, 2024\n",
      "Time:                     12:50:33\n",
      "--------------------------------------------------------------------\n",
      "No. of Equations:         3.00000    BIC:                    21.9646\n",
      "Nobs:                     1499.00    HQIC:                   21.9379\n",
      "Log likelihood:          -22799.5    FPE:                3.31599e+09\n",
      "AIC:                      21.9220    Det(Omega_mle):     3.28959e+09\n",
      "--------------------------------------------------------------------\n",
      "Results for equation Stock_Price\n",
      "====================================================================================\n",
      "                       coefficient       std. error           t-stat            prob\n",
      "------------------------------------------------------------------------------------\n",
      "const                     0.082589         0.871892            0.095           0.925\n",
      "L1.Stock_Price            1.001920         0.003206          312.532           0.000\n",
      "L1.Industry_Index        -0.000316         0.000195           -1.618           0.106\n",
      "L1.Market_Index           0.000174         0.000095            1.831           0.067\n",
      "====================================================================================\n",
      "\n",
      "Results for equation Industry_Index\n",
      "====================================================================================\n",
      "                       coefficient       std. error           t-stat            prob\n",
      "------------------------------------------------------------------------------------\n",
      "const                    30.224433        24.220561            1.248           0.212\n",
      "L1.Stock_Price            0.198437         0.089055            2.228           0.026\n",
      "L1.Industry_Index         0.984719         0.005423          181.574           0.000\n",
      "L1.Market_Index           0.004350         0.002641            1.647           0.099\n",
      "====================================================================================\n",
      "\n",
      "Results for equation Market_Index\n",
      "====================================================================================\n",
      "                       coefficient       std. error           t-stat            prob\n",
      "------------------------------------------------------------------------------------\n",
      "const                    39.035316        26.801450            1.456           0.145\n",
      "L1.Stock_Price            0.096268         0.098545            0.977           0.329\n",
      "L1.Industry_Index        -0.009348         0.006001           -1.558           0.119\n",
      "L1.Market_Index           1.001034         0.002922          342.574           0.000\n",
      "====================================================================================\n",
      "\n",
      "Correlation matrix of residuals\n",
      "                  Stock_Price  Industry_Index  Market_Index\n",
      "Stock_Price          1.000000        0.754250      0.542491\n",
      "Industry_Index       0.754250        1.000000      0.662585\n",
      "Market_Index         0.542491        0.662585      1.000000\n",
      "\n",
      "\n",
      "\n"
     ]
    },
    {
     "name": "stderr",
     "output_type": "stream",
     "text": [
      "/Users/apple/opt/anaconda3/lib/python3.8/site-packages/statsmodels/tsa/base/tsa_model.py:473: ValueWarning: A date index has been provided, but it has no associated frequency information and so will be ignored when e.g. forecasting.\n",
      "  self._init_dates(dates, freq)\n"
     ]
    }
   ],
   "source": [
    "from statsmodels.tsa.api import VAR\n",
    "\n",
    "# 建立VAR模型\n",
    "model = VAR(data)\n",
    "var_results = model.fit(maxlags=1, ic='aic')\n",
    "\n",
    "# 打印VAR模型的结果\n",
    "print(\"VAR模型结果：\")\n",
    "print(var_results.summary())"
   ]
  },
  {
   "cell_type": "markdown",
   "id": "11c41706",
   "metadata": {},
   "source": [
    "常数项（const）: 156.159920，表示 Stock_Price 的平均水平是156.159920。该常数项的 t-statistic 为 59.558，非常显著。\n",
    "由于只有一个常数项，没有 Lag 项或其他自回归项，该模型暗示 Stock_Price 在时间上的变化主要是由常数项引起的。\n",
    "Industry_Index 和 Market_Index 方程\n",
    "同样，每个方程只包含了一个常数项。\n",
    "Industry_Index 的常数项为 7205.235120，Market_Index 的常数项为 11382.468273。\n",
    "这些常数项表示 Industry_Index 和 Market_Index 在时间上的平均水平。\n",
    "模型的解释\n",
    "这样的模型适用于那些在时间上趋势相对稳定、不受其他变量影响很大的情况。在这里，由于只有常数项，模型暗示着每个变量在观察期内的变化主要是由其自身的平均水平引起的，而不受其他变量的过去值的影响。"
   ]
  },
  {
   "cell_type": "markdown",
   "id": "d3fdc985",
   "metadata": {},
   "source": [
    "使用了VAR模型的irf()方法来获取脉冲响应（Impulse Response Function）的结果"
   ]
  },
  {
   "cell_type": "code",
   "execution_count": 95,
   "id": "745904c2",
   "metadata": {},
   "outputs": [
    {
     "data": {
      "text/plain": [
       "<Figure size 144x144 with 0 Axes>"
      ]
     },
     "metadata": {},
     "output_type": "display_data"
    },
    {
     "data": {
      "image/png": "[encoded data removed]",
      "text/plain": [
       "<Figure size 720x720 with 1 Axes>"
      ]
     },
     "metadata": {
      "needs_background": "light"
     },
     "output_type": "display_data"
    }
   ],
   "source": [
    "# 绘制脉冲响应图\n",
    "# 创建一个图表，并设置尺寸\n",
    "plt.figure(figsize=(2, 2))\n",
    "irf = var_results.irf(10)  # 10期的脉冲响应\n",
    "irf.plot(impulse='Market_Index', response='Stock_Price')\n",
    "plt.show()"
   ]
  },
  {
   "cell_type": "markdown",
   "id": "0204bed8",
   "metadata": {},
   "source": [
    "图形在特定期数内升高，表示Market_Index脉冲在该期对Stock_Price有正向影响"
   ]
  },
  {
   "cell_type": "code",
   "execution_count": 88,
   "id": "5b4b0555",
   "metadata": {},
   "outputs": [
    {
     "data": {
      "image/png": "[encoded data removed]",
      "text/plain": [
       "<Figure size 720x720 with 1 Axes>"
      ]
     },
     "metadata": {
      "needs_background": "light"
     },
     "output_type": "display_data"
    }
   ],
   "source": [
    "# 绘制脉冲响应图\n",
    "irf = var_results.irf(10)  # 10期的脉冲响应\n",
    "irf.plot(impulse='Industry_Index', response='Stock_Price')\n",
    "plt.show()"
   ]
  },
  {
   "cell_type": "markdown",
   "id": "9c8e7cbe",
   "metadata": {},
   "source": [
    "图形在特定期数内降低，表示Industry_Index脉冲在该期对Stock_Price有正向影响"
   ]
  },
  {
   "cell_type": "code",
   "execution_count": null,
   "id": "e9985c5f",
   "metadata": {},
   "outputs": [],
   "source": []
  }
 ],
 "metadata": {
  "kernelspec": {
   "display_name": "Python 3",
   "language": "python",
   "name": "python3"
  },
  "language_info": {
   "codemirror_mode": {
    "name": "ipython",
    "version": 3
   },
   "file_extension": ".py",
   "mimetype": "text/x-python",
   "name": "python",
   "nbconvert_exporter": "python",
   "pygments_lexer": "ipython3",
   "version": "3.8.8"
  }
 },
 "nbformat": 4,
 "nbformat_minor": 5
}
